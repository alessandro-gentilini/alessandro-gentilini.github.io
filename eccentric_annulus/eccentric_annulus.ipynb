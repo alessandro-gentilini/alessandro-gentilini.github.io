{
 "cells": [
  {
   "cell_type": "code",
   "execution_count": 1,
   "metadata": {},
   "outputs": [],
   "source": [
    "from sympy import *\n",
    "init_printing(use_latex='mathjax')"
   ]
  },
  {
   "cell_type": "code",
   "execution_count": 2,
   "metadata": {},
   "outputs": [],
   "source": [
    "x_D, y_D, r, R = symbols('x_D y_D r R')\n",
    "alpha = symbols('alpha')\n"
   ]
  },
  {
   "cell_type": "code",
   "execution_count": 3,
   "metadata": {},
   "outputs": [],
   "source": [
    "def x_1():\n",
    "    return x_D+r*cos(alpha)\n",
    "def y_1():\n",
    "    return y_D+r*sin(alpha)\n",
    "def x_2():\n",
    "    return x_D\n",
    "def y_2():\n",
    "    return y_D"
   ]
  },
  {
   "cell_type": "code",
   "execution_count": 4,
   "metadata": {},
   "outputs": [],
   "source": [
    "def d_x():\n",
    "    return x_2()-x_1()"
   ]
  },
  {
   "cell_type": "code",
   "execution_count": 5,
   "metadata": {},
   "outputs": [],
   "source": [
    "def d_y():\n",
    "    return y_2()-y_1()"
   ]
  },
  {
   "cell_type": "code",
   "execution_count": 6,
   "metadata": {},
   "outputs": [],
   "source": [
    "def d_r():\n",
    "    return sqrt(d_x()**2+d_y()**2)"
   ]
  },
  {
   "cell_type": "code",
   "execution_count": 7,
   "metadata": {},
   "outputs": [
    {
     "data": {
      "text/latex": [
       "$\\displaystyle \\sqrt{r^{2} \\sin^{2}{\\left(\\alpha \\right)} + r^{2} \\cos^{2}{\\left(\\alpha \\right)}}$"
      ],
      "text/plain": [
       "   _________________________\n",
       "  ╱  2    2       2    2    \n",
       "╲╱  r ⋅sin (α) + r ⋅cos (α) "
      ]
     },
     "execution_count": 7,
     "metadata": {},
     "output_type": "execute_result"
    }
   ],
   "source": [
    "d_r()"
   ]
  },
  {
   "cell_type": "code",
   "execution_count": 8,
   "metadata": {},
   "outputs": [],
   "source": [
    "def D():\n",
    "    return x_1()*y_2()-x_2()*y_1()"
   ]
  },
  {
   "cell_type": "code",
   "execution_count": 9,
   "metadata": {},
   "outputs": [
    {
     "data": {
      "text/latex": [
       "$\\displaystyle - x_{D} \\left(r \\sin{\\left(\\alpha \\right)} + y_{D}\\right) + y_{D} \\left(r \\cos{\\left(\\alpha \\right)} + x_{D}\\right)$"
      ],
      "text/plain": [
       "-x_D⋅(r⋅sin(α) + y_D) + y_D⋅(r⋅cos(α) + x_D)"
      ]
     },
     "execution_count": 9,
     "metadata": {},
     "output_type": "execute_result"
    }
   ],
   "source": [
    "D()"
   ]
  },
  {
   "cell_type": "code",
   "execution_count": 10,
   "metadata": {},
   "outputs": [
    {
     "data": {
      "text/latex": [
       "$\\displaystyle \\frac{r \\sqrt{R^{2} \\left(r^{2} \\sin^{2}{\\left(\\alpha \\right)} + r^{2} \\cos^{2}{\\left(\\alpha \\right)}\\right) - \\left(- x_{D} \\left(r \\sin{\\left(\\alpha \\right)} + y_{D}\\right) + y_{D} \\left(r \\cos{\\left(\\alpha \\right)} + x_{D}\\right)\\right)^{2}} \\cos{\\left(\\alpha \\right)} \\operatorname{sign}{\\left(r \\sin{\\left(\\alpha \\right)} \\right)} - r \\left(- x_{D} \\left(r \\sin{\\left(\\alpha \\right)} + y_{D}\\right) + y_{D} \\left(r \\cos{\\left(\\alpha \\right)} + x_{D}\\right)\\right) \\sin{\\left(\\alpha \\right)}}{r^{2} \\sin^{2}{\\left(\\alpha \\right)} + r^{2} \\cos^{2}{\\left(\\alpha \\right)}}$"
      ],
      "text/plain": [
       "     _________________________________________________________________________\n",
       "    ╱  2 ⎛ 2    2       2    2   ⎞                                            \n",
       "r⋅╲╱  R ⋅⎝r ⋅sin (α) + r ⋅cos (α)⎠ - (-x_D⋅(r⋅sin(α) + y_D) + y_D⋅(r⋅cos(α) + \n",
       "──────────────────────────────────────────────────────────────────────────────\n",
       "                                                                        2    2\n",
       "                                                                       r ⋅sin \n",
       "\n",
       "_______                                                                       \n",
       "     2                                                                        \n",
       "x_D))  ⋅cos(α)⋅sign(r⋅sin(α)) - r⋅(-x_D⋅(r⋅sin(α) + y_D) + y_D⋅(r⋅cos(α) + x_D\n",
       "──────────────────────────────────────────────────────────────────────────────\n",
       "       2    2                                                                 \n",
       "(α) + r ⋅cos (α)                                                              \n",
       "\n",
       "         \n",
       "         \n",
       "))⋅sin(α)\n",
       "─────────\n",
       "         \n",
       "         "
      ]
     },
     "execution_count": 10,
     "metadata": {},
     "output_type": "execute_result"
    }
   ],
   "source": [
    "def x_A():\n",
    "    return (D()*d_y()+sign(d_y())*d_x()*sqrt(R**2*d_r()**2-D()**2))/(d_r()**2)\n",
    "x_A()"
   ]
  },
  {
   "cell_type": "code",
   "execution_count": 11,
   "metadata": {},
   "outputs": [
    {
     "data": {
      "text/latex": [
       "$\\displaystyle \\frac{- r \\left(x_{D} \\left(r \\sin{\\left(\\alpha \\right)} + y_{D}\\right) - y_{D} \\left(r \\cos{\\left(\\alpha \\right)} + x_{D}\\right)\\right) \\cos{\\left(\\alpha \\right)} + \\sqrt{R^{2} \\left(r^{2} \\sin^{2}{\\left(\\alpha \\right)} + r^{2} \\cos^{2}{\\left(\\alpha \\right)}\\right) - \\left(- x_{D} \\left(r \\sin{\\left(\\alpha \\right)} + y_{D}\\right) + y_{D} \\left(r \\cos{\\left(\\alpha \\right)} + x_{D}\\right)\\right)^{2}} \\left|{r \\sin{\\left(\\alpha \\right)}}\\right|}{r^{2} \\sin^{2}{\\left(\\alpha \\right)} + r^{2} \\cos^{2}{\\left(\\alpha \\right)}}$"
      ],
      "text/plain": [
       "                                                             _________________\n",
       "                                                            ╱  2 ⎛ 2    2     \n",
       "-r⋅(x_D⋅(r⋅sin(α) + y_D) - y_D⋅(r⋅cos(α) + x_D))⋅cos(α) + ╲╱  R ⋅⎝r ⋅sin (α) +\n",
       "──────────────────────────────────────────────────────────────────────────────\n",
       "                                                                 2    2       \n",
       "                                                                r ⋅sin (α) + r\n",
       "\n",
       "_______________________________________________________________           \n",
       "  2    2   ⎞                                                 2            \n",
       " r ⋅cos (α)⎠ - (-x_D⋅(r⋅sin(α) + y_D) + y_D⋅(r⋅cos(α) + x_D))  ⋅│r⋅sin(α)│\n",
       "──────────────────────────────────────────────────────────────────────────\n",
       "2    2                                                                    \n",
       " ⋅cos (α)                                                                 "
      ]
     },
     "execution_count": 11,
     "metadata": {},
     "output_type": "execute_result"
    }
   ],
   "source": [
    "def y_A():\n",
    "    return (-D()*d_x()+abs(d_y())*sqrt(R**2*d_r()**2-D()**2))/(d_r()**2)\n",
    "y_A()"
   ]
  },
  {
   "cell_type": "code",
   "execution_count": 12,
   "metadata": {},
   "outputs": [
    {
     "data": {
      "text/latex": [
       "$\\displaystyle \\sqrt{\\left(- r \\sin{\\left(\\alpha \\right)} - y_{D} + \\frac{- r \\left(x_{D} \\left(r \\sin{\\left(\\alpha \\right)} + y_{D}\\right) - y_{D} \\left(r \\cos{\\left(\\alpha \\right)} + x_{D}\\right)\\right) \\cos{\\left(\\alpha \\right)} + \\sqrt{R^{2} \\left(r^{2} \\sin^{2}{\\left(\\alpha \\right)} + r^{2} \\cos^{2}{\\left(\\alpha \\right)}\\right) - \\left(- x_{D} \\left(r \\sin{\\left(\\alpha \\right)} + y_{D}\\right) + y_{D} \\left(r \\cos{\\left(\\alpha \\right)} + x_{D}\\right)\\right)^{2}} \\left|{r \\sin{\\left(\\alpha \\right)}}\\right|}{r^{2} \\sin^{2}{\\left(\\alpha \\right)} + r^{2} \\cos^{2}{\\left(\\alpha \\right)}}\\right)^{2} + \\left(- r \\cos{\\left(\\alpha \\right)} - x_{D} + \\frac{r \\sqrt{R^{2} \\left(r^{2} \\sin^{2}{\\left(\\alpha \\right)} + r^{2} \\cos^{2}{\\left(\\alpha \\right)}\\right) - \\left(- x_{D} \\left(r \\sin{\\left(\\alpha \\right)} + y_{D}\\right) + y_{D} \\left(r \\cos{\\left(\\alpha \\right)} + x_{D}\\right)\\right)^{2}} \\cos{\\left(\\alpha \\right)} \\operatorname{sign}{\\left(r \\sin{\\left(\\alpha \\right)} \\right)} - r \\left(- x_{D} \\left(r \\sin{\\left(\\alpha \\right)} + y_{D}\\right) + y_{D} \\left(r \\cos{\\left(\\alpha \\right)} + x_{D}\\right)\\right) \\sin{\\left(\\alpha \\right)}}{r^{2} \\sin^{2}{\\left(\\alpha \\right)} + r^{2} \\cos^{2}{\\left(\\alpha \\right)}}\\right)^{2}}$"
      ],
      "text/plain": [
       "        ______________________________________________________________________\n",
       "       ╱                                                                      \n",
       "      ╱  ⎛                                                                    \n",
       "     ╱   ⎜                                                                    \n",
       "    ╱    ⎜                  -r⋅(x_D⋅(r⋅sin(α) + y_D) - y_D⋅(r⋅cos(α) + x_D))⋅c\n",
       "   ╱     ⎜-r⋅sin(α) - y_D + ──────────────────────────────────────────────────\n",
       "  ╱      ⎜                                                                    \n",
       "╲╱       ⎝                                                                    \n",
       "\n",
       "______________________________________________________________________________\n",
       "                                                                              \n",
       "           ___________________________________________________________________\n",
       "          ╱  2 ⎛ 2    2       2    2   ⎞                                      \n",
       "os(α) + ╲╱  R ⋅⎝r ⋅sin (α) + r ⋅cos (α)⎠ - (-x_D⋅(r⋅sin(α) + y_D) + y_D⋅(r⋅cos\n",
       "──────────────────────────────────────────────────────────────────────────────\n",
       "               2    2       2    2                                            \n",
       "              r ⋅sin (α) + r ⋅cos (α)                                         \n",
       "\n",
       "______________________________________________________________________________\n",
       "                         2                                                    \n",
       "_____________           ⎞    ⎛                       _________________________\n",
       "           2            ⎟    ⎜                      ╱  2 ⎛ 2    2       2    2\n",
       "(α) + x_D))  ⋅│r⋅sin(α)│⎟    ⎜                  r⋅╲╱  R ⋅⎝r ⋅sin (α) + r ⋅cos \n",
       "────────────────────────⎟  + ⎜-r⋅cos(α) - x_D + ──────────────────────────────\n",
       "                        ⎟    ⎜                                                \n",
       "                        ⎠    ⎝                                                \n",
       "\n",
       "______________________________________________________________________________\n",
       "                                                                              \n",
       "_______________________________________________________                       \n",
       "   ⎞                                                 2                        \n",
       "(α)⎠ - (-x_D⋅(r⋅sin(α) + y_D) + y_D⋅(r⋅cos(α) + x_D))  ⋅cos(α)⋅sign(r⋅sin(α)) \n",
       "──────────────────────────────────────────────────────────────────────────────\n",
       "                                          2    2       2    2                 \n",
       "                                         r ⋅sin (α) + r ⋅cos (α)              \n",
       "\n",
       "____________________________________________________________\n",
       "                                                          2 \n",
       "                                                         ⎞  \n",
       "                                                         ⎟  \n",
       "- r⋅(-x_D⋅(r⋅sin(α) + y_D) + y_D⋅(r⋅cos(α) + x_D))⋅sin(α)⎟  \n",
       "─────────────────────────────────────────────────────────⎟  \n",
       "                                                         ⎟  \n",
       "                                                         ⎠  "
      ]
     },
     "execution_count": 12,
     "metadata": {},
     "output_type": "execute_result"
    }
   ],
   "source": [
    "def f():\n",
    "    return sqrt((x_A()-x_1())**2+(y_A()-y_1())**2)\n",
    "f()"
   ]
  },
  {
   "cell_type": "code",
   "execution_count": 13,
   "metadata": {},
   "outputs": [
    {
     "data": {
      "text/latex": [
       "$\\displaystyle \\sqrt{\\left(- r \\sin{\\left(\\alpha \\right)} - y_{D} + \\frac{- r \\left(x_{D} \\left(r \\sin{\\left(\\alpha \\right)} + y_{D}\\right) - y_{D} \\left(r \\cos{\\left(\\alpha \\right)} + x_{D}\\right)\\right) \\cos{\\left(\\alpha \\right)} + \\sqrt{r^{2} \\sin^{2}{\\left(\\alpha \\right)} + r^{2} \\cos^{2}{\\left(\\alpha \\right)} - \\left(- x_{D} \\left(r \\sin{\\left(\\alpha \\right)} + y_{D}\\right) + y_{D} \\left(r \\cos{\\left(\\alpha \\right)} + x_{D}\\right)\\right)^{2}} \\left|{r \\sin{\\left(\\alpha \\right)}}\\right|}{r^{2} \\sin^{2}{\\left(\\alpha \\right)} + r^{2} \\cos^{2}{\\left(\\alpha \\right)}}\\right)^{2} + \\left(- r \\cos{\\left(\\alpha \\right)} - x_{D} + \\frac{- r \\left(- x_{D} \\left(r \\sin{\\left(\\alpha \\right)} + y_{D}\\right) + y_{D} \\left(r \\cos{\\left(\\alpha \\right)} + x_{D}\\right)\\right) \\sin{\\left(\\alpha \\right)} + r \\sqrt{r^{2} \\sin^{2}{\\left(\\alpha \\right)} + r^{2} \\cos^{2}{\\left(\\alpha \\right)} - \\left(- x_{D} \\left(r \\sin{\\left(\\alpha \\right)} + y_{D}\\right) + y_{D} \\left(r \\cos{\\left(\\alpha \\right)} + x_{D}\\right)\\right)^{2}} \\cos{\\left(\\alpha \\right)} \\operatorname{sign}{\\left(r \\sin{\\left(\\alpha \\right)} \\right)}}{r^{2} \\sin^{2}{\\left(\\alpha \\right)} + r^{2} \\cos^{2}{\\left(\\alpha \\right)}}\\right)^{2}}$"
      ],
      "text/plain": [
       "        ______________________________________________________________________\n",
       "       ╱                                                                      \n",
       "      ╱  ⎛                                                                    \n",
       "     ╱   ⎜                                                                    \n",
       "    ╱    ⎜                  -r⋅(x_D⋅(r⋅sin(α) + y_D) - y_D⋅(r⋅cos(α) + x_D))⋅c\n",
       "   ╱     ⎜-r⋅sin(α) - y_D + ──────────────────────────────────────────────────\n",
       "  ╱      ⎜                                                                    \n",
       "╲╱       ⎝                                                                    \n",
       "\n",
       "______________________________________________________________________________\n",
       "                                                                              \n",
       "           ___________________________________________________________________\n",
       "          ╱  2    2       2    2                                              \n",
       "os(α) + ╲╱  r ⋅sin (α) + r ⋅cos (α) - (-x_D⋅(r⋅sin(α) + y_D) + y_D⋅(r⋅cos(α) +\n",
       "──────────────────────────────────────────────────────────────────────────────\n",
       "             2    2       2    2                                              \n",
       "            r ⋅sin (α) + r ⋅cos (α)                                           \n",
       "\n",
       "______________________________________________________________________________\n",
       "                    2                                                         \n",
       "________           ⎞    ⎛                                                     \n",
       "      2            ⎟    ⎜                                                     \n",
       " x_D))  ⋅│r⋅sin(α)│⎟    ⎜                  -r⋅(-x_D⋅(r⋅sin(α) + y_D) + y_D⋅(r⋅\n",
       "───────────────────⎟  + ⎜-r⋅cos(α) - x_D + ───────────────────────────────────\n",
       "                   ⎟    ⎜                                                     \n",
       "                   ⎠    ⎝                                                     \n",
       "\n",
       "______________________________________________________________________________\n",
       "                                                                              \n",
       "                             _________________________________________________\n",
       "                            ╱  2    2       2    2                            \n",
       "cos(α) + x_D))⋅sin(α) + r⋅╲╱  r ⋅sin (α) + r ⋅cos (α) - (-x_D⋅(r⋅sin(α) + y_D)\n",
       "──────────────────────────────────────────────────────────────────────────────\n",
       "                                   2    2       2    2                        \n",
       "                                  r ⋅sin (α) + r ⋅cos (α)                     \n",
       "\n",
       "___________________________________________________\n",
       "                                                 2 \n",
       "__________________________                      ⎞  \n",
       "                        2                       ⎟  \n",
       " + y_D⋅(r⋅cos(α) + x_D))  ⋅cos(α)⋅sign(r⋅sin(α))⎟  \n",
       "────────────────────────────────────────────────⎟  \n",
       "                                                ⎟  \n",
       "                                                ⎠  "
      ]
     },
     "execution_count": 13,
     "metadata": {},
     "output_type": "execute_result"
    }
   ],
   "source": [
    "R=1\n",
    "f()"
   ]
  },
  {
   "cell_type": "code",
   "execution_count": 14,
   "metadata": {},
   "outputs": [
    {
     "data": {
      "text/latex": [
       "$\\displaystyle \\sqrt{\\left(- x_{D} + \\frac{- 0.25 \\left(- x_{D} \\left(y_{D} + 0.25 \\sin{\\left(\\alpha \\right)}\\right) + y_{D} \\left(x_{D} + 0.25 \\cos{\\left(\\alpha \\right)}\\right)\\right) \\sin{\\left(\\alpha \\right)} + 0.25 \\sqrt{- \\left(- x_{D} \\left(y_{D} + 0.25 \\sin{\\left(\\alpha \\right)}\\right) + y_{D} \\left(x_{D} + 0.25 \\cos{\\left(\\alpha \\right)}\\right)\\right)^{2} + 0.0625 \\sin^{2}{\\left(\\alpha \\right)} + 0.0625 \\cos^{2}{\\left(\\alpha \\right)}} \\cos{\\left(\\alpha \\right)} \\operatorname{sign}{\\left(\\sin{\\left(\\alpha \\right)} \\right)}}{0.0625 \\sin^{2}{\\left(\\alpha \\right)} + 0.0625 \\cos^{2}{\\left(\\alpha \\right)}} - 0.25 \\cos{\\left(\\alpha \\right)}\\right)^{2} + \\left(- y_{D} + \\frac{- 0.25 \\left(x_{D} \\left(y_{D} + 0.25 \\sin{\\left(\\alpha \\right)}\\right) - y_{D} \\left(x_{D} + 0.25 \\cos{\\left(\\alpha \\right)}\\right)\\right) \\cos{\\left(\\alpha \\right)} + 0.25 \\sqrt{- \\left(- x_{D} \\left(y_{D} + 0.25 \\sin{\\left(\\alpha \\right)}\\right) + y_{D} \\left(x_{D} + 0.25 \\cos{\\left(\\alpha \\right)}\\right)\\right)^{2} + 0.0625 \\sin^{2}{\\left(\\alpha \\right)} + 0.0625 \\cos^{2}{\\left(\\alpha \\right)}} \\left|{\\sin{\\left(\\alpha \\right)}}\\right|}{0.0625 \\sin^{2}{\\left(\\alpha \\right)} + 0.0625 \\cos^{2}{\\left(\\alpha \\right)}} - 0.25 \\sin{\\left(\\alpha \\right)}\\right)^{2}}$"
      ],
      "text/plain": [
       "        ______________________________________________________________________\n",
       "       ╱                                                                      \n",
       "      ╱  ⎛                                                                    \n",
       "     ╱   ⎜                                                                    \n",
       "    ╱    ⎜       -0.25⋅(-x_D⋅(y_D + 0.25⋅sin(α)) + y_D⋅(x_D + 0.25⋅cos(α)))⋅si\n",
       "   ╱     ⎜-x_D + ─────────────────────────────────────────────────────────────\n",
       "  ╱      ⎜                                                                    \n",
       "╲╱       ⎝                                                                    \n",
       "\n",
       "______________________________________________________________________________\n",
       "                                                                              \n",
       "               _______________________________________________________________\n",
       "              ╱                                                       2       \n",
       "n(α) + 0.25⋅╲╱  - (-x_D⋅(y_D + 0.25⋅sin(α)) + y_D⋅(x_D + 0.25⋅cos(α)))  + 0.06\n",
       "──────────────────────────────────────────────────────────────────────────────\n",
       "                           2                2                                 \n",
       "                 0.0625⋅sin (α) + 0.0625⋅cos (α)                              \n",
       "\n",
       "______________________________________________________________________________\n",
       "                                                               2              \n",
       "____________________________                                  ⎞    ⎛          \n",
       "      2                2                                      ⎟    ⎜          \n",
       "25⋅sin (α) + 0.0625⋅cos (α) ⋅cos(α)⋅sign(sin(α))              ⎟    ⎜       -0.\n",
       "──────────────────────────────────────────────── - 0.25⋅cos(α)⎟  + ⎜-y_D + ───\n",
       "                                                              ⎟    ⎜          \n",
       "                                                              ⎠    ⎝          \n",
       "\n",
       "______________________________________________________________________________\n",
       "                                                                              \n",
       "                                                                        ______\n",
       "                                                                       ╱      \n",
       "25⋅(x_D⋅(y_D + 0.25⋅sin(α)) - y_D⋅(x_D + 0.25⋅cos(α)))⋅cos(α) + 0.25⋅╲╱  - (-x\n",
       "──────────────────────────────────────────────────────────────────────────────\n",
       "                                                                              \n",
       "                                                                     0.0625⋅si\n",
       "\n",
       "______________________________________________________________________________\n",
       "                                                                              \n",
       "______________________________________________________________________________\n",
       "                                                 2             2              \n",
       "_D⋅(y_D + 0.25⋅sin(α)) + y_D⋅(x_D + 0.25⋅cos(α)))  + 0.0625⋅sin (α) + 0.0625⋅c\n",
       "──────────────────────────────────────────────────────────────────────────────\n",
       " 2                2                                                           \n",
       "n (α) + 0.0625⋅cos (α)                                                        \n",
       "\n",
       "_________________________________\n",
       "                               2 \n",
       "_______                       ⎞  \n",
       "  2                           ⎟  \n",
       "os (α) ⋅│sin(α)│              ⎟  \n",
       "──────────────── - 0.25⋅sin(α)⎟  \n",
       "                              ⎟  \n",
       "                              ⎠  "
      ]
     },
     "execution_count": 14,
     "metadata": {},
     "output_type": "execute_result"
    }
   ],
   "source": [
    "r=1/4\n",
    "f()\n"
   ]
  },
  {
   "cell_type": "code",
   "execution_count": 15,
   "metadata": {},
   "outputs": [
    {
     "data": {
      "text/latex": [
       "$\\displaystyle \\sqrt{\\left(- x_{D} + \\frac{- 0.25 \\left(- x_{D} \\left(0.25 \\sin{\\left(\\alpha \\right)} - 0.111111111111111\\right) - 0.111111111111111 x_{D} - 0.0277777777777778 \\cos{\\left(\\alpha \\right)}\\right) \\sin{\\left(\\alpha \\right)} + 0.25 \\sqrt{- \\left(- x_{D} \\left(0.25 \\sin{\\left(\\alpha \\right)} - 0.111111111111111\\right) - 0.111111111111111 x_{D} - 0.0277777777777778 \\cos{\\left(\\alpha \\right)}\\right)^{2} + 0.0625 \\sin^{2}{\\left(\\alpha \\right)} + 0.0625 \\cos^{2}{\\left(\\alpha \\right)}} \\cos{\\left(\\alpha \\right)} \\operatorname{sign}{\\left(\\sin{\\left(\\alpha \\right)} \\right)}}{0.0625 \\sin^{2}{\\left(\\alpha \\right)} + 0.0625 \\cos^{2}{\\left(\\alpha \\right)}} - 0.25 \\cos{\\left(\\alpha \\right)}\\right)^{2} + \\left(\\frac{- 0.25 \\left(x_{D} \\left(0.25 \\sin{\\left(\\alpha \\right)} - 0.111111111111111\\right) + 0.111111111111111 x_{D} + 0.0277777777777778 \\cos{\\left(\\alpha \\right)}\\right) \\cos{\\left(\\alpha \\right)} + 0.25 \\sqrt{- \\left(- x_{D} \\left(0.25 \\sin{\\left(\\alpha \\right)} - 0.111111111111111\\right) - 0.111111111111111 x_{D} - 0.0277777777777778 \\cos{\\left(\\alpha \\right)}\\right)^{2} + 0.0625 \\sin^{2}{\\left(\\alpha \\right)} + 0.0625 \\cos^{2}{\\left(\\alpha \\right)}} \\left|{\\sin{\\left(\\alpha \\right)}}\\right|}{0.0625 \\sin^{2}{\\left(\\alpha \\right)} + 0.0625 \\cos^{2}{\\left(\\alpha \\right)}} - 0.25 \\sin{\\left(\\alpha \\right)} + 0.111111111111111\\right)^{2}}$"
      ],
      "text/plain": [
       "        ______________________________________________________________________\n",
       "       ╱                                                                      \n",
       "      ╱  ⎛                                                                    \n",
       "     ╱   ⎜                                                                    \n",
       "    ╱    ⎜       -0.25⋅(-x_D⋅(0.25⋅sin(α) - 0.111111111111111) - 0.11111111111\n",
       "   ╱     ⎜-x_D + ─────────────────────────────────────────────────────────────\n",
       "  ╱      ⎜                                                                    \n",
       "╲╱       ⎝                                                                    \n",
       "\n",
       "______________________________________________________________________________\n",
       "                                                                              \n",
       "                                                       _______________________\n",
       "                                                      ╱                       \n",
       "1111⋅x_D - 0.0277777777777778⋅cos(α))⋅sin(α) + 0.25⋅╲╱  - (-x_D⋅(0.25⋅sin(α) -\n",
       "──────────────────────────────────────────────────────────────────────────────\n",
       "                                                                   2          \n",
       "                                                         0.0625⋅sin (α) + 0.06\n",
       "\n",
       "______________________________________________________________________________\n",
       "                                                                              \n",
       "______________________________________________________________________________\n",
       "                                                                        2     \n",
       " 0.111111111111111) - 0.111111111111111⋅x_D - 0.0277777777777778⋅cos(α))  + 0.\n",
       "──────────────────────────────────────────────────────────────────────────────\n",
       "      2                                                                       \n",
       "25⋅cos (α)                                                                    \n",
       "\n",
       "______________________________________________________________________________\n",
       "                                                                 2            \n",
       "______________________________                                  ⎞    ⎛        \n",
       "        2                2                                      ⎟    ⎜        \n",
       "0625⋅sin (α) + 0.0625⋅cos (α) ⋅cos(α)⋅sign(sin(α))              ⎟    ⎜-0.25⋅(x\n",
       "────────────────────────────────────────────────── - 0.25⋅cos(α)⎟  + ⎜────────\n",
       "                                                                ⎟    ⎜        \n",
       "                                                                ⎠    ⎝        \n",
       "\n",
       "______________________________________________________________________________\n",
       "                                                                              \n",
       "                                                                              \n",
       "                                                                              \n",
       "_D⋅(0.25⋅sin(α) - 0.111111111111111) + 0.111111111111111⋅x_D + 0.0277777777777\n",
       "──────────────────────────────────────────────────────────────────────────────\n",
       "                                                                              \n",
       "                                                                              \n",
       "\n",
       "______________________________________________________________________________\n",
       "                                                                              \n",
       "                             _________________________________________________\n",
       "                            ╱                                                 \n",
       "778⋅cos(α))⋅cos(α) + 0.25⋅╲╱  - (-x_D⋅(0.25⋅sin(α) - 0.111111111111111) - 0.11\n",
       "──────────────────────────────────────────────────────────────────────────────\n",
       "                                    2                2                        \n",
       "                          0.0625⋅sin (α) + 0.0625⋅cos (α)                     \n",
       "\n",
       "______________________________________________________________________________\n",
       "                                                                              \n",
       "______________________________________________________________________________\n",
       "                                              2             2                2\n",
       "1111111111111⋅x_D - 0.0277777777777778⋅cos(α))  + 0.0625⋅sin (α) + 0.0625⋅cos \n",
       "──────────────────────────────────────────────────────────────────────────────\n",
       "                                                                              \n",
       "                                                                              \n",
       "\n",
       "__________________________________________________\n",
       "                                                2 \n",
       "____                                           ⎞  \n",
       "                                               ⎟  \n",
       "(α) ⋅│sin(α)│                                  ⎟  \n",
       "───────────── - 0.25⋅sin(α) + 0.111111111111111⎟  \n",
       "                                               ⎟  \n",
       "                                               ⎠  "
      ]
     },
     "execution_count": 15,
     "metadata": {},
     "output_type": "execute_result"
    }
   ],
   "source": [
    "y_D=-1/9\n",
    "f()"
   ]
  },
  {
   "cell_type": "code",
   "execution_count": 16,
   "metadata": {},
   "outputs": [
    {
     "data": {
      "text/latex": [
       "$\\displaystyle \\sqrt{\\left(\\frac{- 0.25 \\left(- 0.0357142857142857 \\sin{\\left(\\alpha \\right)} - 0.0277777777777778 \\cos{\\left(\\alpha \\right)}\\right) \\sin{\\left(\\alpha \\right)} + 0.0625 \\sqrt{- 0.0204081632653061 \\left(- \\sin{\\left(\\alpha \\right)} - 0.777777777777778 \\cos{\\left(\\alpha \\right)}\\right)^{2} + \\sin^{2}{\\left(\\alpha \\right)} + \\cos^{2}{\\left(\\alpha \\right)}} \\cos{\\left(\\alpha \\right)} \\operatorname{sign}{\\left(\\sin{\\left(\\alpha \\right)} \\right)}}{0.0625 \\sin^{2}{\\left(\\alpha \\right)} + 0.0625 \\cos^{2}{\\left(\\alpha \\right)}} - 0.25 \\cos{\\left(\\alpha \\right)} - 0.142857142857143\\right)^{2} + \\left(\\frac{- 0.25 \\left(0.0357142857142857 \\sin{\\left(\\alpha \\right)} + 0.0277777777777778 \\cos{\\left(\\alpha \\right)}\\right) \\cos{\\left(\\alpha \\right)} + 0.0625 \\sqrt{- 0.0204081632653061 \\left(- \\sin{\\left(\\alpha \\right)} - 0.777777777777778 \\cos{\\left(\\alpha \\right)}\\right)^{2} + \\sin^{2}{\\left(\\alpha \\right)} + \\cos^{2}{\\left(\\alpha \\right)}} \\left|{\\sin{\\left(\\alpha \\right)}}\\right|}{0.0625 \\sin^{2}{\\left(\\alpha \\right)} + 0.0625 \\cos^{2}{\\left(\\alpha \\right)}} - 0.25 \\sin{\\left(\\alpha \\right)} + 0.111111111111111\\right)^{2}}$"
      ],
      "text/plain": [
       "        ______________________________________________________________________\n",
       "       ╱                                                                      \n",
       "      ╱  ⎛                                                                    \n",
       "     ╱   ⎜                                                                    \n",
       "    ╱    ⎜-0.25⋅(-0.0357142857142857⋅sin(α) - 0.0277777777777778⋅cos(α))⋅sin(α\n",
       "   ╱     ⎜────────────────────────────────────────────────────────────────────\n",
       "  ╱      ⎜                                                                    \n",
       "╲╱       ⎝                                                                    \n",
       "\n",
       "______________________________________________________________________________\n",
       "                                                                              \n",
       "              ________________________________________________________________\n",
       "             ╱                                                          2     \n",
       ") + 0.0625⋅╲╱  - 0.0204081632653061⋅(-sin(α) - 0.777777777777778⋅cos(α))  + si\n",
       "──────────────────────────────────────────────────────────────────────────────\n",
       "                 2                2                                           \n",
       "       0.0625⋅sin (α) + 0.0625⋅cos (α)                                        \n",
       "\n",
       "______________________________________________________________________________\n",
       "                                                                       2      \n",
       "________________                                                      ⎞    ⎛  \n",
       " 2         2                                                          ⎟    ⎜  \n",
       "n (α) + cos (α) ⋅cos(α)⋅sign(sin(α))                                  ⎟    ⎜-0\n",
       "──────────────────────────────────── - 0.25⋅cos(α) - 0.142857142857143⎟  + ⎜──\n",
       "                                                                      ⎟    ⎜  \n",
       "                                                                      ⎠    ⎝  \n",
       "\n",
       "______________________________________________________________________________\n",
       "                                                                              \n",
       "                                                                              \n",
       "                                                                              \n",
       ".25⋅(0.0357142857142857⋅sin(α) + 0.0277777777777778⋅cos(α))⋅cos(α) + 0.0625⋅╲╱\n",
       "──────────────────────────────────────────────────────────────────────────────\n",
       "                                                                             2\n",
       "                                                                   0.0625⋅sin \n",
       "\n",
       "______________________________________________________________________________\n",
       "                                                                              \n",
       " _____________________________________________________________________________\n",
       "╱                                                          2      2         2 \n",
       "  - 0.0204081632653061⋅(-sin(α) - 0.777777777777778⋅cos(α))  + sin (α) + cos (\n",
       "──────────────────────────────────────────────────────────────────────────────\n",
       "                2                                                             \n",
       "(α) + 0.0625⋅cos (α)                                                          \n",
       "\n",
       "_________________________________________________\n",
       "                                               2 \n",
       "___                                           ⎞  \n",
       "                                              ⎟  \n",
       "α) ⋅│sin(α)│                                  ⎟  \n",
       "──────────── - 0.25⋅sin(α) + 0.111111111111111⎟  \n",
       "                                              ⎟  \n",
       "                                              ⎠  "
      ]
     },
     "execution_count": 16,
     "metadata": {},
     "output_type": "execute_result"
    }
   ],
   "source": [
    "x_D=1/7\n",
    "f()"
   ]
  },
  {
   "cell_type": "code",
   "execution_count": 20,
   "metadata": {},
   "outputs": [
    {
     "data": {
      "text/latex": [
       "$\\displaystyle 0.991777736623067 \\sqrt{\\left(- \\sqrt{- 0.0161372950819672 \\sin{\\left(2 \\alpha \\right)} + 0.0040983606557377 \\cos{\\left(2 \\alpha \\right)} + 1} \\left|{\\sin{\\left(\\alpha \\right)}}\\right| + 0.252072607367889 \\sin{\\left(\\alpha \\right)} + 0.072020744962254 \\sin{\\left(2 \\alpha \\right)} + 0.056016134970642 \\cos{\\left(2 \\alpha \\right)} - 0.056016134970642\\right)^{2} + \\left(- \\sqrt{- 0.0161372950819672 \\sin{\\left(2 \\alpha \\right)} + 0.0040983606557377 \\cos{\\left(2 \\alpha \\right)} + 1} \\cos{\\left(\\alpha \\right)} \\operatorname{sign}{\\left(\\sin{\\left(\\alpha \\right)} \\right)} - 0.056016134970642 \\sin{\\left(2 \\alpha \\right)} + 0.252072607367889 \\cos{\\left(\\alpha \\right)} + 0.072020744962254 \\cos{\\left(2 \\alpha \\right)} + 0.072020744962254\\right)^{2}}$"
      ],
      "text/plain": [
       "                      ________________________________________________________\n",
       "                     ╱                                                        \n",
       "                    ╱  ⎛    __________________________________________________\n",
       "0.991777736623067⋅╲╱   ⎝- ╲╱ -0.0161372950819672⋅sin(2⋅α) + 0.0040983606557377\n",
       "\n",
       "______________________________________________________________________________\n",
       "                                                                              \n",
       "______________                                                                \n",
       "⋅cos(2⋅α) + 1 ⋅│sin(α)│ + 0.252072607367889⋅sin(α) + 0.072020744962254⋅sin(2⋅α\n",
       "\n",
       "______________________________________________________________________________\n",
       "                                                   2                          \n",
       "                                                  ⎞    ⎛    __________________\n",
       ") + 0.056016134970642⋅cos(2⋅α) - 0.056016134970642⎠  + ⎝- ╲╱ -0.01613729508196\n",
       "\n",
       "______________________________________________________________________________\n",
       "                                                                              \n",
       "______________________________________________                                \n",
       "72⋅sin(2⋅α) + 0.0040983606557377⋅cos(2⋅α) + 1 ⋅cos(α)⋅sign(sin(α)) - 0.0560161\n",
       "\n",
       "______________________________________________________________________________\n",
       "                                                                              \n",
       "                                                                              \n",
       "34970642⋅sin(2⋅α) + 0.252072607367889⋅cos(α) + 0.072020744962254⋅cos(2⋅α) + 0.\n",
       "\n",
       "__________________\n",
       "                2 \n",
       "               ⎞  \n",
       "072020744962254⎠  "
      ]
     },
     "execution_count": 20,
     "metadata": {},
     "output_type": "execute_result"
    }
   ],
   "source": [
    "f()\n",
    "simplify(f())"
   ]
  },
  {
   "cell_type": "code",
   "execution_count": 21,
   "metadata": {},
   "outputs": [
    {
     "data": {
      "image/png": "[encoded data removed]",
      "text/plain": [
       "<Figure size 432x288 with 1 Axes>"
      ]
     },
     "metadata": {
      "needs_background": "light"
     },
     "output_type": "display_data"
    },
    {
     "data": {
      "text/plain": [
       "<sympy.plotting.plot.Plot at 0x7f421507a358>"
      ]
     },
     "execution_count": 21,
     "metadata": {},
     "output_type": "execute_result"
    }
   ],
   "source": [
    "plot(f(),(alpha,0,pi),xlabel='alpha',ylabel='f',axis_center=(0,0),title='f')"
   ]
  },
  {
   "cell_type": "code",
   "execution_count": null,
   "metadata": {},
   "outputs": [],
   "source": []
  }
 ],
 "metadata": {
  "kernelspec": {
   "display_name": "Python 2",
   "language": "python",
   "name": "python2"
  },
  "language_info": {
   "codemirror_mode": {
    "name": "ipython",
    "version": 3
   },
   "file_extension": ".py",
   "mimetype": "text/x-python",
   "name": "python",
   "nbconvert_exporter": "python",
   "pygments_lexer": "ipython3",
   "version": "3.6.9"
  }
 },
 "nbformat": 4,
 "nbformat_minor": 4
}
