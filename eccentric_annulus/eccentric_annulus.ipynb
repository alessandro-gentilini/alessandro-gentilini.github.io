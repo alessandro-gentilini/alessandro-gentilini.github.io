{
 "cells": [
  {
   "cell_type": "code",
   "execution_count": 1,
   "metadata": {},
   "outputs": [],
   "source": [
    "from sympy import *\n",
    "init_printing(use_latex='mathjax')"
   ]
  },
  {
   "cell_type": "code",
   "execution_count": 2,
   "metadata": {},
   "outputs": [],
   "source": [
    "x_D, y_D, r, R = symbols('x_D y_D r R')\n",
    "alpha = symbols('alpha')\n"
   ]
  },
  {
   "cell_type": "code",
   "execution_count": 3,
   "metadata": {},
   "outputs": [],
   "source": [
    "def x_1():\n",
    "    return x_D+r*cos(alpha)\n",
    "def y_1():\n",
    "    return y_D+r*sin(alpha)\n",
    "def x_2():\n",
    "    return x_D\n",
    "def y_2():\n",
    "    return y_D"
   ]
  },
  {
   "cell_type": "code",
   "execution_count": 4,
   "metadata": {},
   "outputs": [],
   "source": [
    "def d_x():\n",
    "    return x_2()-x_1()"
   ]
  },
  {
   "cell_type": "code",
   "execution_count": 5,
   "metadata": {},
   "outputs": [],
   "source": [
    "def d_y():\n",
    "    return y_2()-y_1()"
   ]
  },
  {
   "cell_type": "code",
   "execution_count": 6,
   "metadata": {},
   "outputs": [],
   "source": [
    "def d_r():\n",
    "    return sqrt(d_x()**2+d_y()**2)"
   ]
  },
  {
   "cell_type": "code",
   "execution_count": 7,
   "metadata": {},
   "outputs": [
    {
     "data": {
      "text/latex": [
       "$\\displaystyle \\sqrt{r^{2} \\sin^{2}{\\left(\\alpha \\right)} + r^{2} \\cos^{2}{\\left(\\alpha \\right)}}$"
      ],
      "text/plain": [
       "   _________________________\n",
       "  ╱  2    2       2    2    \n",
       "╲╱  r ⋅sin (α) + r ⋅cos (α) "
      ]
     },
     "execution_count": 7,
     "metadata": {},
     "output_type": "execute_result"
    }
   ],
   "source": [
    "d_r()"
   ]
  },
  {
   "cell_type": "code",
   "execution_count": 11,
   "metadata": {},
   "outputs": [],
   "source": [
    "def D():\n",
    "    return x_1()*y_2()-x_2()*y_1()"
   ]
  },
  {
   "cell_type": "code",
   "execution_count": 12,
   "metadata": {},
   "outputs": [
    {
     "data": {
      "text/latex": [
       "$\\displaystyle - x_{D} \\left(r \\sin{\\left(\\alpha \\right)} + y_{D}\\right) + y_{D} \\left(r \\cos{\\left(\\alpha \\right)} + x_{D}\\right)$"
      ],
      "text/plain": [
       "-x_D⋅(r⋅sin(α) + y_D) + y_D⋅(r⋅cos(α) + x_D)"
      ]
     },
     "execution_count": 12,
     "metadata": {},
     "output_type": "execute_result"
    }
   ],
   "source": [
    "D()"
   ]
  },
  {
   "cell_type": "code",
   "execution_count": 15,
   "metadata": {},
   "outputs": [
    {
     "data": {
      "text/latex": [
       "$\\displaystyle \\frac{r \\sqrt{R^{2} \\left(r^{2} \\sin^{2}{\\left(\\alpha \\right)} + r^{2} \\cos^{2}{\\left(\\alpha \\right)}\\right) - \\left(- x_{D} \\left(r \\sin{\\left(\\alpha \\right)} + y_{D}\\right) + y_{D} \\left(r \\cos{\\left(\\alpha \\right)} + x_{D}\\right)\\right)^{2}} \\cos{\\left(\\alpha \\right)} \\operatorname{sign}{\\left(r \\sin{\\left(\\alpha \\right)} \\right)} - r \\left(- x_{D} \\left(r \\sin{\\left(\\alpha \\right)} + y_{D}\\right) + y_{D} \\left(r \\cos{\\left(\\alpha \\right)} + x_{D}\\right)\\right) \\sin{\\left(\\alpha \\right)}}{r^{2} \\sin^{2}{\\left(\\alpha \\right)} + r^{2} \\cos^{2}{\\left(\\alpha \\right)}}$"
      ],
      "text/plain": [
       "     _________________________________________________________________________\n",
       "    ╱  2 ⎛ 2    2       2    2   ⎞                                            \n",
       "r⋅╲╱  R ⋅⎝r ⋅sin (α) + r ⋅cos (α)⎠ - (-x_D⋅(r⋅sin(α) + y_D) + y_D⋅(r⋅cos(α) + \n",
       "──────────────────────────────────────────────────────────────────────────────\n",
       "                                                                        2    2\n",
       "                                                                       r ⋅sin \n",
       "\n",
       "_______                                                                       \n",
       "     2                                                                        \n",
       "x_D))  ⋅cos(α)⋅sign(r⋅sin(α)) - r⋅(-x_D⋅(r⋅sin(α) + y_D) + y_D⋅(r⋅cos(α) + x_D\n",
       "──────────────────────────────────────────────────────────────────────────────\n",
       "       2    2                                                                 \n",
       "(α) + r ⋅cos (α)                                                              \n",
       "\n",
       "         \n",
       "         \n",
       "))⋅sin(α)\n",
       "─────────\n",
       "         \n",
       "         "
      ]
     },
     "execution_count": 15,
     "metadata": {},
     "output_type": "execute_result"
    }
   ],
   "source": [
    "def x_A():\n",
    "    return (D()*d_y()+sign(d_y())*d_x()*sqrt(R**2*d_r()**2-D()**2))/(d_r()**2)\n",
    "x_A()"
   ]
  },
  {
   "cell_type": "code",
   "execution_count": 17,
   "metadata": {},
   "outputs": [
    {
     "data": {
      "text/latex": [
       "$\\displaystyle \\frac{- r \\left(x_{D} \\left(r \\sin{\\left(\\alpha \\right)} + y_{D}\\right) - y_{D} \\left(r \\cos{\\left(\\alpha \\right)} + x_{D}\\right)\\right) \\cos{\\left(\\alpha \\right)} + \\sqrt{R^{2} \\left(r^{2} \\sin^{2}{\\left(\\alpha \\right)} + r^{2} \\cos^{2}{\\left(\\alpha \\right)}\\right) - \\left(- x_{D} \\left(r \\sin{\\left(\\alpha \\right)} + y_{D}\\right) + y_{D} \\left(r \\cos{\\left(\\alpha \\right)} + x_{D}\\right)\\right)^{2}} \\left|{r \\sin{\\left(\\alpha \\right)}}\\right|}{r^{2} \\sin^{2}{\\left(\\alpha \\right)} + r^{2} \\cos^{2}{\\left(\\alpha \\right)}}$"
      ],
      "text/plain": [
       "                                                             _________________\n",
       "                                                            ╱  2 ⎛ 2    2     \n",
       "-r⋅(x_D⋅(r⋅sin(α) + y_D) - y_D⋅(r⋅cos(α) + x_D))⋅cos(α) + ╲╱  R ⋅⎝r ⋅sin (α) +\n",
       "──────────────────────────────────────────────────────────────────────────────\n",
       "                                                                 2    2       \n",
       "                                                                r ⋅sin (α) + r\n",
       "\n",
       "_______________________________________________________________           \n",
       "  2    2   ⎞                                                 2            \n",
       " r ⋅cos (α)⎠ - (-x_D⋅(r⋅sin(α) + y_D) + y_D⋅(r⋅cos(α) + x_D))  ⋅│r⋅sin(α)│\n",
       "──────────────────────────────────────────────────────────────────────────\n",
       "2    2                                                                    \n",
       " ⋅cos (α)                                                                 "
      ]
     },
     "execution_count": 17,
     "metadata": {},
     "output_type": "execute_result"
    }
   ],
   "source": [
    "def y_A():\n",
    "    return (-D()*d_x()+abs(d_y())*sqrt(R**2*d_r()**2-D()**2))/(d_r()**2)\n",
    "y_A()"
   ]
  },
  {
   "cell_type": "code",
   "execution_count": 18,
   "metadata": {},
   "outputs": [
    {
     "data": {
      "text/latex": [
       "$\\displaystyle \\sqrt{\\left(- r \\sin{\\left(\\alpha \\right)} - y_{D} + \\frac{- r \\left(x_{D} \\left(r \\sin{\\left(\\alpha \\right)} + y_{D}\\right) - y_{D} \\left(r \\cos{\\left(\\alpha \\right)} + x_{D}\\right)\\right) \\cos{\\left(\\alpha \\right)} + \\sqrt{R^{2} \\left(r^{2} \\sin^{2}{\\left(\\alpha \\right)} + r^{2} \\cos^{2}{\\left(\\alpha \\right)}\\right) - \\left(- x_{D} \\left(r \\sin{\\left(\\alpha \\right)} + y_{D}\\right) + y_{D} \\left(r \\cos{\\left(\\alpha \\right)} + x_{D}\\right)\\right)^{2}} \\left|{r \\sin{\\left(\\alpha \\right)}}\\right|}{r^{2} \\sin^{2}{\\left(\\alpha \\right)} + r^{2} \\cos^{2}{\\left(\\alpha \\right)}}\\right)^{2} + \\left(- r \\cos{\\left(\\alpha \\right)} - x_{D} + \\frac{r \\sqrt{R^{2} \\left(r^{2} \\sin^{2}{\\left(\\alpha \\right)} + r^{2} \\cos^{2}{\\left(\\alpha \\right)}\\right) - \\left(- x_{D} \\left(r \\sin{\\left(\\alpha \\right)} + y_{D}\\right) + y_{D} \\left(r \\cos{\\left(\\alpha \\right)} + x_{D}\\right)\\right)^{2}} \\cos{\\left(\\alpha \\right)} \\operatorname{sign}{\\left(r \\sin{\\left(\\alpha \\right)} \\right)} - r \\left(- x_{D} \\left(r \\sin{\\left(\\alpha \\right)} + y_{D}\\right) + y_{D} \\left(r \\cos{\\left(\\alpha \\right)} + x_{D}\\right)\\right) \\sin{\\left(\\alpha \\right)}}{r^{2} \\sin^{2}{\\left(\\alpha \\right)} + r^{2} \\cos^{2}{\\left(\\alpha \\right)}}\\right)^{2}}$"
      ],
      "text/plain": [
       "        ______________________________________________________________________\n",
       "       ╱                                                                      \n",
       "      ╱  ⎛                                                                    \n",
       "     ╱   ⎜                                                                    \n",
       "    ╱    ⎜                  -r⋅(x_D⋅(r⋅sin(α) + y_D) - y_D⋅(r⋅cos(α) + x_D))⋅c\n",
       "   ╱     ⎜-r⋅sin(α) - y_D + ──────────────────────────────────────────────────\n",
       "  ╱      ⎜                                                                    \n",
       "╲╱       ⎝                                                                    \n",
       "\n",
       "______________________________________________________________________________\n",
       "                                                                              \n",
       "           ___________________________________________________________________\n",
       "          ╱  2 ⎛ 2    2       2    2   ⎞                                      \n",
       "os(α) + ╲╱  R ⋅⎝r ⋅sin (α) + r ⋅cos (α)⎠ - (-x_D⋅(r⋅sin(α) + y_D) + y_D⋅(r⋅cos\n",
       "──────────────────────────────────────────────────────────────────────────────\n",
       "               2    2       2    2                                            \n",
       "              r ⋅sin (α) + r ⋅cos (α)                                         \n",
       "\n",
       "______________________________________________________________________________\n",
       "                         2                                                    \n",
       "_____________           ⎞    ⎛                       _________________________\n",
       "           2            ⎟    ⎜                      ╱  2 ⎛ 2    2       2    2\n",
       "(α) + x_D))  ⋅│r⋅sin(α)│⎟    ⎜                  r⋅╲╱  R ⋅⎝r ⋅sin (α) + r ⋅cos \n",
       "────────────────────────⎟  + ⎜-r⋅cos(α) - x_D + ──────────────────────────────\n",
       "                        ⎟    ⎜                                                \n",
       "                        ⎠    ⎝                                                \n",
       "\n",
       "______________________________________________________________________________\n",
       "                                                                              \n",
       "_______________________________________________________                       \n",
       "   ⎞                                                 2                        \n",
       "(α)⎠ - (-x_D⋅(r⋅sin(α) + y_D) + y_D⋅(r⋅cos(α) + x_D))  ⋅cos(α)⋅sign(r⋅sin(α)) \n",
       "──────────────────────────────────────────────────────────────────────────────\n",
       "                                          2    2       2    2                 \n",
       "                                         r ⋅sin (α) + r ⋅cos (α)              \n",
       "\n",
       "____________________________________________________________\n",
       "                                                          2 \n",
       "                                                         ⎞  \n",
       "                                                         ⎟  \n",
       "- r⋅(-x_D⋅(r⋅sin(α) + y_D) + y_D⋅(r⋅cos(α) + x_D))⋅sin(α)⎟  \n",
       "─────────────────────────────────────────────────────────⎟  \n",
       "                                                         ⎟  \n",
       "                                                         ⎠  "
      ]
     },
     "execution_count": 18,
     "metadata": {},
     "output_type": "execute_result"
    }
   ],
   "source": [
    "def f():\n",
    "    return sqrt((x_A()-x_1())**2+(y_A()-y_1())**2)\n",
    "f()"
   ]
  },
  {
   "cell_type": "code",
   "execution_count": 19,
   "metadata": {},
   "outputs": [],
   "source": [
    "r=R/4"
   ]
  },
  {
   "cell_type": "code",
   "execution_count": 20,
   "metadata": {},
   "outputs": [],
   "source": [
    "x_D=R/7\n",
    "y_D=-R/9"
   ]
  },
  {
   "cell_type": "code",
   "execution_count": 21,
   "metadata": {},
   "outputs": [
    {
     "data": {
      "text/latex": [
       "$\\displaystyle \\sqrt{\\left(- \\frac{R \\sin{\\left(\\alpha \\right)}}{4} + \\frac{R}{9} + \\frac{- \\frac{R \\left(\\frac{R \\left(\\frac{R \\sin{\\left(\\alpha \\right)}}{4} - \\frac{R}{9}\\right)}{7} + \\frac{R \\left(\\frac{R \\cos{\\left(\\alpha \\right)}}{4} + \\frac{R}{7}\\right)}{9}\\right) \\cos{\\left(\\alpha \\right)}}{4} + \\frac{\\sqrt{R^{2} \\left(\\frac{R^{2} \\sin^{2}{\\left(\\alpha \\right)}}{16} + \\frac{R^{2} \\cos^{2}{\\left(\\alpha \\right)}}{16}\\right) - \\left(- \\frac{R \\left(\\frac{R \\sin{\\left(\\alpha \\right)}}{4} - \\frac{R}{9}\\right)}{7} - \\frac{R \\left(\\frac{R \\cos{\\left(\\alpha \\right)}}{4} + \\frac{R}{7}\\right)}{9}\\right)^{2}} \\left|{R \\sin{\\left(\\alpha \\right)}}\\right|}{4}}{\\frac{R^{2} \\sin^{2}{\\left(\\alpha \\right)}}{16} + \\frac{R^{2} \\cos^{2}{\\left(\\alpha \\right)}}{16}}\\right)^{2} + \\left(- \\frac{R \\cos{\\left(\\alpha \\right)}}{4} - \\frac{R}{7} + \\frac{- \\frac{R \\left(- \\frac{R \\left(\\frac{R \\sin{\\left(\\alpha \\right)}}{4} - \\frac{R}{9}\\right)}{7} - \\frac{R \\left(\\frac{R \\cos{\\left(\\alpha \\right)}}{4} + \\frac{R}{7}\\right)}{9}\\right) \\sin{\\left(\\alpha \\right)}}{4} + \\frac{R \\sqrt{R^{2} \\left(\\frac{R^{2} \\sin^{2}{\\left(\\alpha \\right)}}{16} + \\frac{R^{2} \\cos^{2}{\\left(\\alpha \\right)}}{16}\\right) - \\left(- \\frac{R \\left(\\frac{R \\sin{\\left(\\alpha \\right)}}{4} - \\frac{R}{9}\\right)}{7} - \\frac{R \\left(\\frac{R \\cos{\\left(\\alpha \\right)}}{4} + \\frac{R}{7}\\right)}{9}\\right)^{2}} \\cos{\\left(\\alpha \\right)} \\operatorname{sign}{\\left(R \\sin{\\left(\\alpha \\right)} \\right)}}{4}}{\\frac{R^{2} \\sin^{2}{\\left(\\alpha \\right)}}{16} + \\frac{R^{2} \\cos^{2}{\\left(\\alpha \\right)}}{16}}\\right)^{2}}$"
      ],
      "text/plain": [
       "                ______________________________________________________________\n",
       "               ╱                                                              \n",
       "              ╱  ⎛                                                            \n",
       "             ╱   ⎜                                                            \n",
       "            ╱    ⎜                     ⎛  ⎛R⋅sin(α)   R⎞     ⎛R⋅cos(α)   R⎞⎞  \n",
       "           ╱     ⎜                     ⎜R⋅⎜──────── - ─⎟   R⋅⎜──────── + ─⎟⎟  \n",
       "          ╱      ⎜                     ⎜  ⎝   4       9⎠     ⎝   4       7⎠⎟  \n",
       "         ╱       ⎜                   R⋅⎜──────────────── + ────────────────⎟⋅c\n",
       "        ╱        ⎜                     ⎝       7                  9        ⎠  \n",
       "       ╱         ⎜                 - ─────────────────────────────────────────\n",
       "      ╱          ⎜  R⋅sin(α)   R                           4                  \n",
       "     ╱           ⎜- ──────── + ─ + ───────────────────────────────────────────\n",
       "    ╱            ⎜     4       9                                              \n",
       "   ╱             ⎜                                                            \n",
       "  ╱              ⎜                                                            \n",
       "╲╱               ⎝                                                            \n",
       "\n",
       "______________________________________________________________________________\n",
       "                                                                              \n",
       "               _______________________________________________________________\n",
       "              ╱                                                               \n",
       "             ╱                                 ⎛    ⎛R⋅sin(α)   R⎞     ⎛R⋅cos(\n",
       "            ╱      ⎛ 2    2       2    2   ⎞   ⎜  R⋅⎜──────── - ─⎟   R⋅⎜──────\n",
       "           ╱     2 ⎜R ⋅sin (α)   R ⋅cos (α)⎟   ⎜    ⎝   4       9⎠     ⎝   4  \n",
       "os(α)     ╱     R ⋅⎜────────── + ──────────⎟ - ⎜- ──────────────── - ─────────\n",
       "        ╲╱         ⎝    16           16    ⎠   ⎝         7                  9 \n",
       "───── + ──────────────────────────────────────────────────────────────────────\n",
       "                                                     4                        \n",
       "──────────────────────────────────────────────────────────────────────────────\n",
       "                 2    2       2    2                                          \n",
       "                R ⋅sin (α)   R ⋅cos (α)                                       \n",
       "                ────────── + ──────────                                       \n",
       "                    16           16                                           \n",
       "\n",
       "______________________________________________________________________________\n",
       "                      2                                                       \n",
       "__________           ⎞    ⎛                                                   \n",
       "        2            ⎟    ⎜                                                   \n",
       "α)   R⎞⎞             ⎟    ⎜                     ⎛    ⎛R⋅sin(α)   R⎞     ⎛R⋅cos\n",
       "── + ─⎟⎟             ⎟    ⎜                     ⎜  R⋅⎜──────── - ─⎟   R⋅⎜─────\n",
       "     7⎠⎟             ⎟    ⎜                     ⎜    ⎝   4       9⎠     ⎝   4 \n",
       "───────⎟  ⋅│R⋅sin(α)│⎟    ⎜                   R⋅⎜- ──────────────── - ────────\n",
       "       ⎠             ⎟    ⎜                     ⎝         7                  9\n",
       "─────────────────────⎟    ⎜                 - ────────────────────────────────\n",
       "                     ⎟    ⎜  R⋅cos(α)   R                            4        \n",
       "─────────────────────⎟  + ⎜- ──────── - ─ + ──────────────────────────────────\n",
       "                     ⎟    ⎜     4       7                                     \n",
       "                     ⎟    ⎜                                                   \n",
       "                     ⎟    ⎜                                                   \n",
       "                     ⎠    ⎝                                                   \n",
       "\n",
       "______________________________________________________________________________\n",
       "                                                                              \n",
       "                            __________________________________________________\n",
       "                           ╱                                                  \n",
       "(α)   R⎞⎞                 ╱                                 ⎛    ⎛R⋅sin(α)   R\n",
       "─── + ─⎟⎟                ╱      ⎛ 2    2       2    2   ⎞   ⎜  R⋅⎜──────── - ─\n",
       "      7⎠⎟               ╱     2 ⎜R ⋅sin (α)   R ⋅cos (α)⎟   ⎜    ⎝   4       9\n",
       "────────⎟⋅sin(α)   R⋅  ╱     R ⋅⎜────────── + ──────────⎟ - ⎜- ───────────────\n",
       "        ⎠            ╲╱         ⎝    16           16    ⎠   ⎝         7       \n",
       "──────────────── + ───────────────────────────────────────────────────────────\n",
       "                                                                      4       \n",
       "──────────────────────────────────────────────────────────────────────────────\n",
       "                                  2    2       2    2                         \n",
       "                                 R ⋅sin (α)   R ⋅cos (α)                      \n",
       "                                 ────────── + ──────────                      \n",
       "                                     16           16                          \n",
       "\n",
       "________________________________________________\n",
       "                                              2 \n",
       "_______________________                      ⎞  \n",
       "                     2                       ⎟  \n",
       "⎞     ⎛R⋅cos(α)   R⎞⎞                        ⎟  \n",
       "⎟   R⋅⎜──────── + ─⎟⎟                        ⎟  \n",
       "⎠     ⎝   4       7⎠⎟                        ⎟  \n",
       "─ - ────────────────⎟  ⋅cos(α)⋅sign(R⋅sin(α))⎟  \n",
       "           9        ⎠                        ⎟  \n",
       "─────────────────────────────────────────────⎟  \n",
       "                                             ⎟  \n",
       "─────────────────────────────────────────────⎟  \n",
       "                                             ⎟  \n",
       "                                             ⎟  \n",
       "                                             ⎟  \n",
       "                                             ⎠  "
      ]
     },
     "execution_count": 21,
     "metadata": {},
     "output_type": "execute_result"
    }
   ],
   "source": [
    "f()"
   ]
  },
  {
   "cell_type": "code",
   "execution_count": 22,
   "metadata": {},
   "outputs": [],
   "source": [
    "R=1"
   ]
  },
  {
   "cell_type": "code",
   "execution_count": 23,
   "metadata": {},
   "outputs": [
    {
     "data": {
      "text/latex": [
       "$\\displaystyle \\sqrt{\\left(- \\frac{R \\sin{\\left(\\alpha \\right)}}{4} + \\frac{R}{9} + \\frac{- \\frac{R \\left(\\frac{R \\left(\\frac{R \\sin{\\left(\\alpha \\right)}}{4} - \\frac{R}{9}\\right)}{7} + \\frac{R \\left(\\frac{R \\cos{\\left(\\alpha \\right)}}{4} + \\frac{R}{7}\\right)}{9}\\right) \\cos{\\left(\\alpha \\right)}}{4} + \\frac{\\sqrt{\\frac{R^{2} \\sin^{2}{\\left(\\alpha \\right)}}{16} + \\frac{R^{2} \\cos^{2}{\\left(\\alpha \\right)}}{16} - \\left(- \\frac{R \\left(\\frac{R \\sin{\\left(\\alpha \\right)}}{4} - \\frac{R}{9}\\right)}{7} - \\frac{R \\left(\\frac{R \\cos{\\left(\\alpha \\right)}}{4} + \\frac{R}{7}\\right)}{9}\\right)^{2}} \\left|{R \\sin{\\left(\\alpha \\right)}}\\right|}{4}}{\\frac{R^{2} \\sin^{2}{\\left(\\alpha \\right)}}{16} + \\frac{R^{2} \\cos^{2}{\\left(\\alpha \\right)}}{16}}\\right)^{2} + \\left(- \\frac{R \\cos{\\left(\\alpha \\right)}}{4} - \\frac{R}{7} + \\frac{- \\frac{R \\left(- \\frac{R \\left(\\frac{R \\sin{\\left(\\alpha \\right)}}{4} - \\frac{R}{9}\\right)}{7} - \\frac{R \\left(\\frac{R \\cos{\\left(\\alpha \\right)}}{4} + \\frac{R}{7}\\right)}{9}\\right) \\sin{\\left(\\alpha \\right)}}{4} + \\frac{R \\sqrt{\\frac{R^{2} \\sin^{2}{\\left(\\alpha \\right)}}{16} + \\frac{R^{2} \\cos^{2}{\\left(\\alpha \\right)}}{16} - \\left(- \\frac{R \\left(\\frac{R \\sin{\\left(\\alpha \\right)}}{4} - \\frac{R}{9}\\right)}{7} - \\frac{R \\left(\\frac{R \\cos{\\left(\\alpha \\right)}}{4} + \\frac{R}{7}\\right)}{9}\\right)^{2}} \\cos{\\left(\\alpha \\right)} \\operatorname{sign}{\\left(R \\sin{\\left(\\alpha \\right)} \\right)}}{4}}{\\frac{R^{2} \\sin^{2}{\\left(\\alpha \\right)}}{16} + \\frac{R^{2} \\cos^{2}{\\left(\\alpha \\right)}}{16}}\\right)^{2}}$"
      ],
      "text/plain": [
       "                ______________________________________________________________\n",
       "               ╱                                                              \n",
       "              ╱  ⎛                                                            \n",
       "             ╱   ⎜                                                            \n",
       "            ╱    ⎜                     ⎛  ⎛R⋅sin(α)   R⎞     ⎛R⋅cos(α)   R⎞⎞  \n",
       "           ╱     ⎜                     ⎜R⋅⎜──────── - ─⎟   R⋅⎜──────── + ─⎟⎟  \n",
       "          ╱      ⎜                     ⎜  ⎝   4       9⎠     ⎝   4       7⎠⎟  \n",
       "         ╱       ⎜                   R⋅⎜──────────────── + ────────────────⎟⋅c\n",
       "        ╱        ⎜                     ⎝       7                  9        ⎠  \n",
       "       ╱         ⎜                 - ─────────────────────────────────────────\n",
       "      ╱          ⎜  R⋅sin(α)   R                           4                  \n",
       "     ╱           ⎜- ──────── + ─ + ───────────────────────────────────────────\n",
       "    ╱            ⎜     4       9                                              \n",
       "   ╱             ⎜                                                            \n",
       "  ╱              ⎜                                                            \n",
       "╲╱               ⎝                                                            \n",
       "\n",
       "______________________________________________________________________________\n",
       "                                                                              \n",
       "               _______________________________________________________________\n",
       "              ╱                                                               \n",
       "             ╱                            ⎛    ⎛R⋅sin(α)   R⎞     ⎛R⋅cos(α)   \n",
       "            ╱    2    2       2    2      ⎜  R⋅⎜──────── - ─⎟   R⋅⎜──────── + \n",
       "           ╱    R ⋅sin (α)   R ⋅cos (α)   ⎜    ⎝   4       9⎠     ⎝   4       \n",
       "os(α)     ╱     ────────── + ────────── - ⎜- ──────────────── - ──────────────\n",
       "        ╲╱          16           16       ⎝         7                  9      \n",
       "───── + ──────────────────────────────────────────────────────────────────────\n",
       "                                                  4                           \n",
       "──────────────────────────────────────────────────────────────────────────────\n",
       "               2    2       2    2                                            \n",
       "              R ⋅sin (α)   R ⋅cos (α)                                         \n",
       "              ────────── + ──────────                                         \n",
       "                  16           16                                             \n",
       "\n",
       "______________________________________________________________________________\n",
       "                 2                                                            \n",
       "_____           ⎞    ⎛                                                        \n",
       "   2            ⎟    ⎜                                                        \n",
       "R⎞⎞             ⎟    ⎜                     ⎛    ⎛R⋅sin(α)   R⎞     ⎛R⋅cos(α)  \n",
       "─⎟⎟             ⎟    ⎜                     ⎜  R⋅⎜──────── - ─⎟   R⋅⎜──────── +\n",
       "7⎠⎟             ⎟    ⎜                     ⎜    ⎝   4       9⎠     ⎝   4      \n",
       "──⎟  ⋅│R⋅sin(α)│⎟    ⎜                   R⋅⎜- ──────────────── - ─────────────\n",
       "  ⎠             ⎟    ⎜                     ⎝         7                  9     \n",
       "────────────────⎟    ⎜                 - ─────────────────────────────────────\n",
       "                ⎟    ⎜  R⋅cos(α)   R                            4             \n",
       "────────────────⎟  + ⎜- ──────── - ─ + ───────────────────────────────────────\n",
       "                ⎟    ⎜     4       7                                          \n",
       "                ⎟    ⎜                                                        \n",
       "                ⎟    ⎜                                                        \n",
       "                ⎠    ⎝                                                        \n",
       "\n",
       "______________________________________________________________________________\n",
       "                                                                              \n",
       "                       _______________________________________________________\n",
       "                      ╱                                                       \n",
       " R⎞⎞                 ╱                            ⎛    ⎛R⋅sin(α)   R⎞     ⎛R⋅c\n",
       " ─⎟⎟                ╱    2    2       2    2      ⎜  R⋅⎜──────── - ─⎟   R⋅⎜───\n",
       " 7⎠⎟               ╱    R ⋅sin (α)   R ⋅cos (α)   ⎜    ⎝   4       9⎠     ⎝   \n",
       "───⎟⋅sin(α)   R⋅  ╱     ────────── + ────────── - ⎜- ──────────────── - ──────\n",
       "   ⎠            ╲╱          16           16       ⎝         7                 \n",
       "─────────── + ────────────────────────────────────────────────────────────────\n",
       "                                                               4              \n",
       "──────────────────────────────────────────────────────────────────────────────\n",
       "                          2    2       2    2                                 \n",
       "                         R ⋅sin (α)   R ⋅cos (α)                              \n",
       "                         ────────── + ──────────                              \n",
       "                             16           16                                  \n",
       "\n",
       "______________________________________\n",
       "                                    2 \n",
       "_____________                      ⎞  \n",
       "           2                       ⎟  \n",
       "os(α)   R⎞⎞                        ⎟  \n",
       "───── + ─⎟⎟                        ⎟  \n",
       "4       7⎠⎟                        ⎟  \n",
       "──────────⎟  ⋅cos(α)⋅sign(R⋅sin(α))⎟  \n",
       " 9        ⎠                        ⎟  \n",
       "───────────────────────────────────⎟  \n",
       "                                   ⎟  \n",
       "───────────────────────────────────⎟  \n",
       "                                   ⎟  \n",
       "                                   ⎟  \n",
       "                                   ⎟  \n",
       "                                   ⎠  "
      ]
     },
     "execution_count": 23,
     "metadata": {},
     "output_type": "execute_result"
    }
   ],
   "source": [
    "f()"
   ]
  },
  {
   "cell_type": "code",
   "execution_count": 24,
   "metadata": {},
   "outputs": [
    {
     "ename": "ValueError",
     "evalue": "The same variable should be used in all univariate expressions being plotted.",
     "output_type": "error",
     "traceback": [
      "\u001b[0;31m---------------------------------------------------------------------------\u001b[0m",
      "\u001b[0;31mValueError\u001b[0m                                Traceback (most recent call last)",
      "\u001b[0;32m<ipython-input-24-ba6aad2cd0c6>\u001b[0m in \u001b[0;36m<module>\u001b[0;34m\u001b[0m\n\u001b[0;32m----> 1\u001b[0;31m \u001b[0mplot\u001b[0m\u001b[0;34m(\u001b[0m\u001b[0mf\u001b[0m\u001b[0;34m(\u001b[0m\u001b[0;34m)\u001b[0m\u001b[0;34m,\u001b[0m\u001b[0;34m(\u001b[0m\u001b[0malpha\u001b[0m\u001b[0;34m,\u001b[0m\u001b[0;36m0\u001b[0m\u001b[0;34m,\u001b[0m\u001b[0;36m3.14\u001b[0m\u001b[0;34m/\u001b[0m\u001b[0;36m2\u001b[0m\u001b[0;34m)\u001b[0m\u001b[0;34m,\u001b[0m\u001b[0mxlabel\u001b[0m\u001b[0;34m=\u001b[0m\u001b[0;34m'alpha'\u001b[0m\u001b[0;34m,\u001b[0m\u001b[0mylabel\u001b[0m\u001b[0;34m=\u001b[0m\u001b[0;34m'f'\u001b[0m\u001b[0;34m,\u001b[0m\u001b[0maxis_center\u001b[0m\u001b[0;34m=\u001b[0m\u001b[0;34m(\u001b[0m\u001b[0;36m0\u001b[0m\u001b[0;34m,\u001b[0m\u001b[0;36m0\u001b[0m\u001b[0;34m)\u001b[0m\u001b[0;34m,\u001b[0m\u001b[0mtitle\u001b[0m\u001b[0;34m=\u001b[0m\u001b[0;34m'f'\u001b[0m\u001b[0;34m)\u001b[0m\u001b[0;34m\u001b[0m\u001b[0;34m\u001b[0m\u001b[0m\n\u001b[0m",
      "\u001b[0;32m~/anaconda2/lib/python3.6/site-packages/sympy/plotting/plot.py\u001b[0m in \u001b[0;36mplot\u001b[0;34m(*args, **kwargs)\u001b[0m\n\u001b[1;32m   1544\u001b[0m             \u001b[0;32mif\u001b[0m \u001b[0mlen\u001b[0m\u001b[0;34m(\u001b[0m\u001b[0mfree\u001b[0m\u001b[0;34m)\u001b[0m \u001b[0;34m>\u001b[0m \u001b[0;36m1\u001b[0m\u001b[0;34m:\u001b[0m\u001b[0;34m\u001b[0m\u001b[0;34m\u001b[0m\u001b[0m\n\u001b[1;32m   1545\u001b[0m                 raise ValueError(\n\u001b[0;32m-> 1546\u001b[0;31m                     \u001b[0;34m'The same variable should be used in all '\u001b[0m\u001b[0;34m\u001b[0m\u001b[0;34m\u001b[0m\u001b[0m\n\u001b[0m\u001b[1;32m   1547\u001b[0m                     'univariate expressions being plotted.')\n\u001b[1;32m   1548\u001b[0m     \u001b[0mx\u001b[0m \u001b[0;34m=\u001b[0m \u001b[0mfree\u001b[0m\u001b[0;34m.\u001b[0m\u001b[0mpop\u001b[0m\u001b[0;34m(\u001b[0m\u001b[0;34m)\u001b[0m \u001b[0;32mif\u001b[0m \u001b[0mfree\u001b[0m \u001b[0;32melse\u001b[0m \u001b[0mSymbol\u001b[0m\u001b[0;34m(\u001b[0m\u001b[0;34m'x'\u001b[0m\u001b[0;34m)\u001b[0m\u001b[0;34m\u001b[0m\u001b[0;34m\u001b[0m\u001b[0m\n",
      "\u001b[0;31mValueError\u001b[0m: The same variable should be used in all univariate expressions being plotted."
     ]
    }
   ],
   "source": [
    "plot(f(),(alpha,0,3.14/2),xlabel='alpha',ylabel='f',axis_center=(0,0),title='f')"
   ]
  },
  {
   "cell_type": "code",
   "execution_count": null,
   "metadata": {},
   "outputs": [],
   "source": []
  }
 ],
 "metadata": {
  "kernelspec": {
   "display_name": "Python 2",
   "language": "python",
   "name": "python2"
  },
  "language_info": {
   "codemirror_mode": {
    "name": "ipython",
    "version": 3
   },
   "file_extension": ".py",
   "mimetype": "text/x-python",
   "name": "python",
   "nbconvert_exporter": "python",
   "pygments_lexer": "ipython3",
   "version": "3.6.9"
  }
 },
 "nbformat": 4,
 "nbformat_minor": 4
}
