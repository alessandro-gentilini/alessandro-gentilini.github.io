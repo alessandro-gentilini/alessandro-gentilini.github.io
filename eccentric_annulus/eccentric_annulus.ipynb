{
 "cells": [
  {
   "cell_type": "code",
   "execution_count": 1,
   "metadata": {},
   "outputs": [],
   "source": [
    "from sympy import *\n",
    "init_printing(use_latex='mathjax')"
   ]
  },
  {
   "cell_type": "code",
   "execution_count": 11,
   "metadata": {},
   "outputs": [],
   "source": [
    "x_D, y_D, r, x_F, y_F, R = symbols('x_D y_D r x_F y_F R')\n",
    "alpha = symbols('alpha')\n",
    "d_x, d_y, d_r, D = symbols('d_x d_y d_r D')\n",
    "x_1, y_1, x_2, y_2 = symbols('x_1 y_1 x_2 y_2')\n",
    "x_A,y_A,x_B,y_B=symbols('x_A y_A x_B y_B')"
   ]
  },
  {
   "cell_type": "code",
   "execution_count": 3,
   "metadata": {},
   "outputs": [],
   "source": [
    "x_1 = x_D+r*cos(alpha)\n",
    "y_1 = y_D+r*sin(alpha)\n",
    "x_2 = x_D\n",
    "y_2 = y_D"
   ]
  },
  {
   "cell_type": "code",
   "execution_count": 4,
   "metadata": {},
   "outputs": [],
   "source": [
    "d_x=x_2-x_1"
   ]
  },
  {
   "cell_type": "code",
   "execution_count": 5,
   "metadata": {},
   "outputs": [],
   "source": [
    "d_y=y_2-y_1"
   ]
  },
  {
   "cell_type": "code",
   "execution_count": 6,
   "metadata": {},
   "outputs": [],
   "source": [
    "d_r=sqrt(d_x**2+d_y**2)"
   ]
  },
  {
   "cell_type": "code",
   "execution_count": 7,
   "metadata": {},
   "outputs": [
    {
     "data": {
      "text/latex": [
       "$\\displaystyle \\sqrt{r^{2} \\sin^{2}{\\left(\\alpha \\right)} + r^{2} \\cos^{2}{\\left(\\alpha \\right)}}$"
      ],
      "text/plain": [
       "   _________________________\n",
       "  ╱  2    2       2    2    \n",
       "╲╱  r ⋅sin (α) + r ⋅cos (α) "
      ]
     },
     "execution_count": 7,
     "metadata": {},
     "output_type": "execute_result"
    }
   ],
   "source": [
    "d_r"
   ]
  },
  {
   "cell_type": "code",
   "execution_count": 8,
   "metadata": {},
   "outputs": [],
   "source": [
    "D=x_1*y_2-x_2*y_1"
   ]
  },
  {
   "cell_type": "code",
   "execution_count": 9,
   "metadata": {},
   "outputs": [
    {
     "data": {
      "text/latex": [
       "$\\displaystyle - x_{D} \\left(r \\sin{\\left(\\alpha \\right)} + y_{D}\\right) + y_{D} \\left(r \\cos{\\left(\\alpha \\right)} + x_{D}\\right)$"
      ],
      "text/plain": [
       "-x_D⋅(r⋅sin(α) + y_D) + y_D⋅(r⋅cos(α) + x_D)"
      ]
     },
     "execution_count": 9,
     "metadata": {},
     "output_type": "execute_result"
    }
   ],
   "source": [
    "D"
   ]
  },
  {
   "cell_type": "code",
   "execution_count": 10,
   "metadata": {},
   "outputs": [],
   "source": [
    "x_F=0\n",
    "y_F=0"
   ]
  },
  {
   "cell_type": "code",
   "execution_count": 13,
   "metadata": {},
   "outputs": [
    {
     "data": {
      "text/latex": [
       "$\\displaystyle \\frac{D d_{y} + d_{x} \\sqrt{- D^{2} + R^{2} d_{r}^{2}} \\operatorname{sign}{\\left(d_{y} \\right)}}{d_{r}^{2}}$"
      ],
      "text/plain": [
       "              _______________          \n",
       "             ╱    2    2   2           \n",
       "D⋅d_y + dₓ⋅╲╱  - D  + R ⋅dᵣ  ⋅sign(d_y)\n",
       "───────────────────────────────────────\n",
       "                    2                  \n",
       "                  dᵣ                   "
      ]
     },
     "execution_count": 13,
     "metadata": {},
     "output_type": "execute_result"
    }
   ],
   "source": [
    "x_A=(D*d_y+sign(d_y)*d_x*sqrt(R**2*d_r**2-D**2))/(d_r**2)\n",
    "x_A"
   ]
  },
  {
   "cell_type": "code",
   "execution_count": null,
   "metadata": {},
   "outputs": [],
   "source": []
  }
 ],
 "metadata": {
  "kernelspec": {
   "display_name": "Python 2",
   "language": "python",
   "name": "python2"
  },
  "language_info": {
   "codemirror_mode": {
    "name": "ipython",
    "version": 3
   },
   "file_extension": ".py",
   "mimetype": "text/x-python",
   "name": "python",
   "nbconvert_exporter": "python",
   "pygments_lexer": "ipython3",
   "version": "3.6.9"
  }
 },
 "nbformat": 4,
 "nbformat_minor": 4
}
