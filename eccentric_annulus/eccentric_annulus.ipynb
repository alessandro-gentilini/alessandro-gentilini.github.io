{
 "cells": [
  {
   "cell_type": "code",
   "execution_count": 1,
   "metadata": {},
   "outputs": [],
   "source": [
    "from sympy import *\n",
    "init_printing(use_latex='mathjax')"
   ]
  },
  {
   "cell_type": "code",
   "execution_count": 2,
   "metadata": {},
   "outputs": [],
   "source": [
    "x_D, y_D, r, R = symbols('x_D y_D r R')\n",
    "alpha = symbols('alpha')\n"
   ]
  },
  {
   "cell_type": "code",
   "execution_count": 3,
   "metadata": {},
   "outputs": [],
   "source": [
    "def x_1():\n",
    "    return x_D+r*cos(alpha)\n",
    "def y_1():\n",
    "    return y_D+r*sin(alpha)\n",
    "def x_2():\n",
    "    return x_D\n",
    "def y_2():\n",
    "    return y_D"
   ]
  },
  {
   "cell_type": "code",
   "execution_count": 4,
   "metadata": {},
   "outputs": [],
   "source": [
    "def d_x():\n",
    "    return x_2()-x_1()"
   ]
  },
  {
   "cell_type": "code",
   "execution_count": 5,
   "metadata": {},
   "outputs": [],
   "source": [
    "def d_y():\n",
    "    return y_2()-y_1()"
   ]
  },
  {
   "cell_type": "code",
   "execution_count": 6,
   "metadata": {},
   "outputs": [],
   "source": [
    "def d_r():\n",
    "    return sqrt(d_x()**2+d_y()**2)"
   ]
  },
  {
   "cell_type": "code",
   "execution_count": 7,
   "metadata": {},
   "outputs": [
    {
     "data": {
      "text/latex": [
       "$\\displaystyle \\sqrt{r^{2} \\sin^{2}{\\left(\\alpha \\right)} + r^{2} \\cos^{2}{\\left(\\alpha \\right)}}$"
      ],
      "text/plain": [
       "   _________________________\n",
       "  ╱  2    2       2    2    \n",
       "╲╱  r ⋅sin (α) + r ⋅cos (α) "
      ]
     },
     "execution_count": 7,
     "metadata": {},
     "output_type": "execute_result"
    }
   ],
   "source": [
    "d_r()"
   ]
  },
  {
   "cell_type": "code",
   "execution_count": 8,
   "metadata": {},
   "outputs": [
    {
     "data": {
      "text/latex": [
       "$\\displaystyle \\sqrt{r^{2}}$"
      ],
      "text/plain": [
       "   ____\n",
       "  ╱  2 \n",
       "╲╱  r  "
      ]
     },
     "execution_count": 8,
     "metadata": {},
     "output_type": "execute_result"
    }
   ],
   "source": [
    "simplify(d_r())"
   ]
  },
  {
   "cell_type": "code",
   "execution_count": 9,
   "metadata": {},
   "outputs": [],
   "source": [
    "def D():\n",
    "    return x_1()*y_2()-x_2()*y_1()"
   ]
  },
  {
   "cell_type": "code",
   "execution_count": 10,
   "metadata": {},
   "outputs": [
    {
     "data": {
      "text/latex": [
       "$\\displaystyle - x_{D} \\left(r \\sin{\\left(\\alpha \\right)} + y_{D}\\right) + y_{D} \\left(r \\cos{\\left(\\alpha \\right)} + x_{D}\\right)$"
      ],
      "text/plain": [
       "-x_D⋅(r⋅sin(α) + y_D) + y_D⋅(r⋅cos(α) + x_D)"
      ]
     },
     "execution_count": 10,
     "metadata": {},
     "output_type": "execute_result"
    }
   ],
   "source": [
    "D()"
   ]
  },
  {
   "cell_type": "code",
   "execution_count": 11,
   "metadata": {},
   "outputs": [
    {
     "data": {
      "text/latex": [
       "$\\displaystyle \\frac{r \\sqrt{R^{2} \\left(r^{2} \\sin^{2}{\\left(\\alpha \\right)} + r^{2} \\cos^{2}{\\left(\\alpha \\right)}\\right) - \\left(- x_{D} \\left(r \\sin{\\left(\\alpha \\right)} + y_{D}\\right) + y_{D} \\left(r \\cos{\\left(\\alpha \\right)} + x_{D}\\right)\\right)^{2}} \\cos{\\left(\\alpha \\right)} \\operatorname{sign}{\\left(r \\sin{\\left(\\alpha \\right)} \\right)} - r \\left(- x_{D} \\left(r \\sin{\\left(\\alpha \\right)} + y_{D}\\right) + y_{D} \\left(r \\cos{\\left(\\alpha \\right)} + x_{D}\\right)\\right) \\sin{\\left(\\alpha \\right)}}{r^{2} \\sin^{2}{\\left(\\alpha \\right)} + r^{2} \\cos^{2}{\\left(\\alpha \\right)}}$"
      ],
      "text/plain": [
       "     _________________________________________________________________________\n",
       "    ╱  2 ⎛ 2    2       2    2   ⎞                                            \n",
       "r⋅╲╱  R ⋅⎝r ⋅sin (α) + r ⋅cos (α)⎠ - (-x_D⋅(r⋅sin(α) + y_D) + y_D⋅(r⋅cos(α) + \n",
       "──────────────────────────────────────────────────────────────────────────────\n",
       "                                                                        2    2\n",
       "                                                                       r ⋅sin \n",
       "\n",
       "_______                                                                       \n",
       "     2                                                                        \n",
       "x_D))  ⋅cos(α)⋅sign(r⋅sin(α)) - r⋅(-x_D⋅(r⋅sin(α) + y_D) + y_D⋅(r⋅cos(α) + x_D\n",
       "──────────────────────────────────────────────────────────────────────────────\n",
       "       2    2                                                                 \n",
       "(α) + r ⋅cos (α)                                                              \n",
       "\n",
       "         \n",
       "         \n",
       "))⋅sin(α)\n",
       "─────────\n",
       "         \n",
       "         "
      ]
     },
     "execution_count": 11,
     "metadata": {},
     "output_type": "execute_result"
    }
   ],
   "source": [
    "def x_A():\n",
    "    return (D()*d_y()+sign(d_y())*d_x()*sqrt(R**2*d_r()**2-D()**2))/(d_r()**2)\n",
    "x_A()"
   ]
  },
  {
   "cell_type": "code",
   "execution_count": 12,
   "metadata": {},
   "outputs": [
    {
     "data": {
      "text/latex": [
       "$\\displaystyle \\frac{- r \\sqrt{R^{2} \\left(r^{2} \\sin^{2}{\\left(\\alpha \\right)} + r^{2} \\cos^{2}{\\left(\\alpha \\right)}\\right) - \\left(- x_{D} \\left(r \\sin{\\left(\\alpha \\right)} + y_{D}\\right) + y_{D} \\left(r \\cos{\\left(\\alpha \\right)} + x_{D}\\right)\\right)^{2}} \\cos{\\left(\\alpha \\right)} \\operatorname{sign}{\\left(r \\sin{\\left(\\alpha \\right)} \\right)} - r \\left(- x_{D} \\left(r \\sin{\\left(\\alpha \\right)} + y_{D}\\right) + y_{D} \\left(r \\cos{\\left(\\alpha \\right)} + x_{D}\\right)\\right) \\sin{\\left(\\alpha \\right)}}{r^{2} \\sin^{2}{\\left(\\alpha \\right)} + r^{2} \\cos^{2}{\\left(\\alpha \\right)}}$"
      ],
      "text/plain": [
       "       _______________________________________________________________________\n",
       "      ╱  2 ⎛ 2    2       2    2   ⎞                                          \n",
       "- r⋅╲╱  R ⋅⎝r ⋅sin (α) + r ⋅cos (α)⎠ - (-x_D⋅(r⋅sin(α) + y_D) + y_D⋅(r⋅cos(α) \n",
       "──────────────────────────────────────────────────────────────────────────────\n",
       "                                                                         2    \n",
       "                                                                        r ⋅sin\n",
       "\n",
       "_________                                                                     \n",
       "       2                                                                      \n",
       "+ x_D))  ⋅cos(α)⋅sign(r⋅sin(α)) - r⋅(-x_D⋅(r⋅sin(α) + y_D) + y_D⋅(r⋅cos(α) + x\n",
       "──────────────────────────────────────────────────────────────────────────────\n",
       "2       2    2                                                                \n",
       " (α) + r ⋅cos (α)                                                             \n",
       "\n",
       "           \n",
       "           \n",
       "_D))⋅sin(α)\n",
       "───────────\n",
       "           \n",
       "           "
      ]
     },
     "execution_count": 12,
     "metadata": {},
     "output_type": "execute_result"
    }
   ],
   "source": [
    "def x_B():\n",
    "    return (D()*d_y()-sign(d_y())*d_x()*sqrt(R**2*d_r()**2-D()**2))/(d_r()**2)\n",
    "x_B()"
   ]
  },
  {
   "cell_type": "code",
   "execution_count": 13,
   "metadata": {},
   "outputs": [
    {
     "data": {
      "text/latex": [
       "$\\displaystyle \\frac{- r \\left(x_{D} \\left(r \\sin{\\left(\\alpha \\right)} + y_{D}\\right) - y_{D} \\left(r \\cos{\\left(\\alpha \\right)} + x_{D}\\right)\\right) \\cos{\\left(\\alpha \\right)} + \\sqrt{R^{2} \\left(r^{2} \\sin^{2}{\\left(\\alpha \\right)} + r^{2} \\cos^{2}{\\left(\\alpha \\right)}\\right) - \\left(- x_{D} \\left(r \\sin{\\left(\\alpha \\right)} + y_{D}\\right) + y_{D} \\left(r \\cos{\\left(\\alpha \\right)} + x_{D}\\right)\\right)^{2}} \\left|{r \\sin{\\left(\\alpha \\right)}}\\right|}{r^{2} \\sin^{2}{\\left(\\alpha \\right)} + r^{2} \\cos^{2}{\\left(\\alpha \\right)}}$"
      ],
      "text/plain": [
       "                                                             _________________\n",
       "                                                            ╱  2 ⎛ 2    2     \n",
       "-r⋅(x_D⋅(r⋅sin(α) + y_D) - y_D⋅(r⋅cos(α) + x_D))⋅cos(α) + ╲╱  R ⋅⎝r ⋅sin (α) +\n",
       "──────────────────────────────────────────────────────────────────────────────\n",
       "                                                                 2    2       \n",
       "                                                                r ⋅sin (α) + r\n",
       "\n",
       "_______________________________________________________________           \n",
       "  2    2   ⎞                                                 2            \n",
       " r ⋅cos (α)⎠ - (-x_D⋅(r⋅sin(α) + y_D) + y_D⋅(r⋅cos(α) + x_D))  ⋅│r⋅sin(α)│\n",
       "──────────────────────────────────────────────────────────────────────────\n",
       "2    2                                                                    \n",
       " ⋅cos (α)                                                                 "
      ]
     },
     "execution_count": 13,
     "metadata": {},
     "output_type": "execute_result"
    }
   ],
   "source": [
    "def y_A():\n",
    "    return (-D()*d_x()+Abs(d_y())*sqrt(R**2*d_r()**2-D()**2))/(d_r()**2)\n",
    "y_A()"
   ]
  },
  {
   "cell_type": "code",
   "execution_count": 14,
   "metadata": {},
   "outputs": [
    {
     "data": {
      "text/latex": [
       "$\\displaystyle \\frac{- r \\left(x_{D} \\left(r \\sin{\\left(\\alpha \\right)} + y_{D}\\right) - y_{D} \\left(r \\cos{\\left(\\alpha \\right)} + x_{D}\\right)\\right) \\cos{\\left(\\alpha \\right)} - \\sqrt{R^{2} \\left(r^{2} \\sin^{2}{\\left(\\alpha \\right)} + r^{2} \\cos^{2}{\\left(\\alpha \\right)}\\right) - \\left(- x_{D} \\left(r \\sin{\\left(\\alpha \\right)} + y_{D}\\right) + y_{D} \\left(r \\cos{\\left(\\alpha \\right)} + x_{D}\\right)\\right)^{2}} \\left|{r \\sin{\\left(\\alpha \\right)}}\\right|}{r^{2} \\sin^{2}{\\left(\\alpha \\right)} + r^{2} \\cos^{2}{\\left(\\alpha \\right)}}$"
      ],
      "text/plain": [
       "                                                             _________________\n",
       "                                                            ╱  2 ⎛ 2    2     \n",
       "-r⋅(x_D⋅(r⋅sin(α) + y_D) - y_D⋅(r⋅cos(α) + x_D))⋅cos(α) - ╲╱  R ⋅⎝r ⋅sin (α) +\n",
       "──────────────────────────────────────────────────────────────────────────────\n",
       "                                                                 2    2       \n",
       "                                                                r ⋅sin (α) + r\n",
       "\n",
       "_______________________________________________________________           \n",
       "  2    2   ⎞                                                 2            \n",
       " r ⋅cos (α)⎠ - (-x_D⋅(r⋅sin(α) + y_D) + y_D⋅(r⋅cos(α) + x_D))  ⋅│r⋅sin(α)│\n",
       "──────────────────────────────────────────────────────────────────────────\n",
       "2    2                                                                    \n",
       " ⋅cos (α)                                                                 "
      ]
     },
     "execution_count": 14,
     "metadata": {},
     "output_type": "execute_result"
    }
   ],
   "source": [
    "def y_B():\n",
    "    return (-D()*d_x()-Abs(d_y())*sqrt(R**2*d_r()**2-D()**2))/(d_r()**2)\n",
    "y_B()"
   ]
  },
  {
   "cell_type": "code",
   "execution_count": 15,
   "metadata": {},
   "outputs": [
    {
     "data": {
      "text/latex": [
       "$\\displaystyle \\min\\left(\\sqrt{\\left(- r \\sin{\\left(\\alpha \\right)} - y_{D} + \\frac{- r \\left(x_{D} \\left(r \\sin{\\left(\\alpha \\right)} + y_{D}\\right) - y_{D} \\left(r \\cos{\\left(\\alpha \\right)} + x_{D}\\right)\\right) \\cos{\\left(\\alpha \\right)} - \\sqrt{R^{2} \\left(r^{2} \\sin^{2}{\\left(\\alpha \\right)} + r^{2} \\cos^{2}{\\left(\\alpha \\right)}\\right) - \\left(- x_{D} \\left(r \\sin{\\left(\\alpha \\right)} + y_{D}\\right) + y_{D} \\left(r \\cos{\\left(\\alpha \\right)} + x_{D}\\right)\\right)^{2}} \\left|{r \\sin{\\left(\\alpha \\right)}}\\right|}{r^{2} \\sin^{2}{\\left(\\alpha \\right)} + r^{2} \\cos^{2}{\\left(\\alpha \\right)}}\\right)^{2} + \\left(- r \\cos{\\left(\\alpha \\right)} - x_{D} + \\frac{- r \\sqrt{R^{2} \\left(r^{2} \\sin^{2}{\\left(\\alpha \\right)} + r^{2} \\cos^{2}{\\left(\\alpha \\right)}\\right) - \\left(- x_{D} \\left(r \\sin{\\left(\\alpha \\right)} + y_{D}\\right) + y_{D} \\left(r \\cos{\\left(\\alpha \\right)} + x_{D}\\right)\\right)^{2}} \\cos{\\left(\\alpha \\right)} \\operatorname{sign}{\\left(r \\sin{\\left(\\alpha \\right)} \\right)} - r \\left(- x_{D} \\left(r \\sin{\\left(\\alpha \\right)} + y_{D}\\right) + y_{D} \\left(r \\cos{\\left(\\alpha \\right)} + x_{D}\\right)\\right) \\sin{\\left(\\alpha \\right)}}{r^{2} \\sin^{2}{\\left(\\alpha \\right)} + r^{2} \\cos^{2}{\\left(\\alpha \\right)}}\\right)^{2}}, \\sqrt{\\left(- r \\sin{\\left(\\alpha \\right)} - y_{D} + \\frac{- r \\left(x_{D} \\left(r \\sin{\\left(\\alpha \\right)} + y_{D}\\right) - y_{D} \\left(r \\cos{\\left(\\alpha \\right)} + x_{D}\\right)\\right) \\cos{\\left(\\alpha \\right)} + \\sqrt{R^{2} \\left(r^{2} \\sin^{2}{\\left(\\alpha \\right)} + r^{2} \\cos^{2}{\\left(\\alpha \\right)}\\right) - \\left(- x_{D} \\left(r \\sin{\\left(\\alpha \\right)} + y_{D}\\right) + y_{D} \\left(r \\cos{\\left(\\alpha \\right)} + x_{D}\\right)\\right)^{2}} \\left|{r \\sin{\\left(\\alpha \\right)}}\\right|}{r^{2} \\sin^{2}{\\left(\\alpha \\right)} + r^{2} \\cos^{2}{\\left(\\alpha \\right)}}\\right)^{2} + \\left(- r \\cos{\\left(\\alpha \\right)} - x_{D} + \\frac{r \\sqrt{R^{2} \\left(r^{2} \\sin^{2}{\\left(\\alpha \\right)} + r^{2} \\cos^{2}{\\left(\\alpha \\right)}\\right) - \\left(- x_{D} \\left(r \\sin{\\left(\\alpha \\right)} + y_{D}\\right) + y_{D} \\left(r \\cos{\\left(\\alpha \\right)} + x_{D}\\right)\\right)^{2}} \\cos{\\left(\\alpha \\right)} \\operatorname{sign}{\\left(r \\sin{\\left(\\alpha \\right)} \\right)} - r \\left(- x_{D} \\left(r \\sin{\\left(\\alpha \\right)} + y_{D}\\right) + y_{D} \\left(r \\cos{\\left(\\alpha \\right)} + x_{D}\\right)\\right) \\sin{\\left(\\alpha \\right)}}{r^{2} \\sin^{2}{\\left(\\alpha \\right)} + r^{2} \\cos^{2}{\\left(\\alpha \\right)}}\\right)^{2}}\\right)$"
      ],
      "text/plain": [
       "Min(sqrt((-r*sin(alpha) - y_D + (-r*(x_D*(r*sin(alpha) + y_D) - y_D*(r*cos(alp\n",
       "ha) + x_D))*cos(alpha) - sqrt(R**2*(r**2*sin(alpha)**2 + r**2*cos(alpha)**2) -\n",
       " (-x_D*(r*sin(alpha) + y_D) + y_D*(r*cos(alpha) + x_D))**2)*Abs(r*sin(alpha)))\n",
       "/(r**2*sin(alpha)**2 + r**2*cos(alpha)**2))**2 + (-r*cos(alpha) - x_D + (-r*sq\n",
       "rt(R**2*(r**2*sin(alpha)**2 + r**2*cos(alpha)**2) - (-x_D*(r*sin(alpha) + y_D)\n",
       " + y_D*(r*cos(alpha) + x_D))**2)*cos(alpha)*sign(r*sin(alpha)) - r*(-x_D*(r*si\n",
       "n(alpha) + y_D) + y_D*(r*cos(alpha) + x_D))*sin(alpha))/(r**2*sin(alpha)**2 + \n",
       "r**2*cos(alpha)**2))**2), sqrt((-r*sin(alpha) - y_D + (-r*(x_D*(r*sin(alpha) +\n",
       " y_D) - y_D*(r*cos(alpha) + x_D))*cos(alpha) + sqrt(R**2*(r**2*sin(alpha)**2 +\n",
       " r**2*cos(alpha)**2) - (-x_D*(r*sin(alpha) + y_D) + y_D*(r*cos(alpha) + x_D))*\n",
       "*2)*Abs(r*sin(alpha)))/(r**2*sin(alpha)**2 + r**2*cos(alpha)**2))**2 + (-r*cos\n",
       "(alpha) - x_D + (r*sqrt(R**2*(r**2*sin(alpha)**2 + r**2*cos(alpha)**2) - (-x_D\n",
       "*(r*sin(alpha) + y_D) + y_D*(r*cos(alpha) + x_D))**2)*cos(alpha)*sign(r*sin(al\n",
       "pha)) - r*(-x_D*(r*sin(alpha) + y_D) + y_D*(r*cos(alpha) + x_D))*sin(alpha))/(\n",
       "r**2*sin(alpha)**2 + r**2*cos(alpha)**2))**2))"
      ]
     },
     "execution_count": 15,
     "metadata": {},
     "output_type": "execute_result"
    }
   ],
   "source": [
    "def f():\n",
    "    return Min(sqrt((x_A()-x_1())**2+(y_A()-y_1())**2),sqrt((x_B()-x_1())**2+(y_B()-y_1())**2))\n",
    "f()"
   ]
  },
  {
   "cell_type": "code",
   "execution_count": 16,
   "metadata": {},
   "outputs": [],
   "source": [
    "#integrate(f(),(alpha,0,2*pi))"
   ]
  },
  {
   "cell_type": "code",
   "execution_count": 17,
   "metadata": {},
   "outputs": [
    {
     "data": {
      "text/latex": [
       "$\\displaystyle \\min\\left(\\sqrt{\\left(- r \\sin{\\left(\\alpha \\right)} - y_{D} + \\frac{- r \\left(x_{D} \\left(r \\sin{\\left(\\alpha \\right)} + y_{D}\\right) - y_{D} \\left(r \\cos{\\left(\\alpha \\right)} + x_{D}\\right)\\right) \\cos{\\left(\\alpha \\right)} - \\sqrt{r^{2} \\sin^{2}{\\left(\\alpha \\right)} + r^{2} \\cos^{2}{\\left(\\alpha \\right)} - \\left(- x_{D} \\left(r \\sin{\\left(\\alpha \\right)} + y_{D}\\right) + y_{D} \\left(r \\cos{\\left(\\alpha \\right)} + x_{D}\\right)\\right)^{2}} \\left|{r \\sin{\\left(\\alpha \\right)}}\\right|}{r^{2} \\sin^{2}{\\left(\\alpha \\right)} + r^{2} \\cos^{2}{\\left(\\alpha \\right)}}\\right)^{2} + \\left(- r \\cos{\\left(\\alpha \\right)} - x_{D} + \\frac{- r \\left(- x_{D} \\left(r \\sin{\\left(\\alpha \\right)} + y_{D}\\right) + y_{D} \\left(r \\cos{\\left(\\alpha \\right)} + x_{D}\\right)\\right) \\sin{\\left(\\alpha \\right)} - r \\sqrt{r^{2} \\sin^{2}{\\left(\\alpha \\right)} + r^{2} \\cos^{2}{\\left(\\alpha \\right)} - \\left(- x_{D} \\left(r \\sin{\\left(\\alpha \\right)} + y_{D}\\right) + y_{D} \\left(r \\cos{\\left(\\alpha \\right)} + x_{D}\\right)\\right)^{2}} \\cos{\\left(\\alpha \\right)} \\operatorname{sign}{\\left(r \\sin{\\left(\\alpha \\right)} \\right)}}{r^{2} \\sin^{2}{\\left(\\alpha \\right)} + r^{2} \\cos^{2}{\\left(\\alpha \\right)}}\\right)^{2}}, \\sqrt{\\left(- r \\sin{\\left(\\alpha \\right)} - y_{D} + \\frac{- r \\left(x_{D} \\left(r \\sin{\\left(\\alpha \\right)} + y_{D}\\right) - y_{D} \\left(r \\cos{\\left(\\alpha \\right)} + x_{D}\\right)\\right) \\cos{\\left(\\alpha \\right)} + \\sqrt{r^{2} \\sin^{2}{\\left(\\alpha \\right)} + r^{2} \\cos^{2}{\\left(\\alpha \\right)} - \\left(- x_{D} \\left(r \\sin{\\left(\\alpha \\right)} + y_{D}\\right) + y_{D} \\left(r \\cos{\\left(\\alpha \\right)} + x_{D}\\right)\\right)^{2}} \\left|{r \\sin{\\left(\\alpha \\right)}}\\right|}{r^{2} \\sin^{2}{\\left(\\alpha \\right)} + r^{2} \\cos^{2}{\\left(\\alpha \\right)}}\\right)^{2} + \\left(- r \\cos{\\left(\\alpha \\right)} - x_{D} + \\frac{- r \\left(- x_{D} \\left(r \\sin{\\left(\\alpha \\right)} + y_{D}\\right) + y_{D} \\left(r \\cos{\\left(\\alpha \\right)} + x_{D}\\right)\\right) \\sin{\\left(\\alpha \\right)} + r \\sqrt{r^{2} \\sin^{2}{\\left(\\alpha \\right)} + r^{2} \\cos^{2}{\\left(\\alpha \\right)} - \\left(- x_{D} \\left(r \\sin{\\left(\\alpha \\right)} + y_{D}\\right) + y_{D} \\left(r \\cos{\\left(\\alpha \\right)} + x_{D}\\right)\\right)^{2}} \\cos{\\left(\\alpha \\right)} \\operatorname{sign}{\\left(r \\sin{\\left(\\alpha \\right)} \\right)}}{r^{2} \\sin^{2}{\\left(\\alpha \\right)} + r^{2} \\cos^{2}{\\left(\\alpha \\right)}}\\right)^{2}}\\right)$"
      ],
      "text/plain": [
       "Min(sqrt((-r*sin(alpha) - y_D + (-r*(x_D*(r*sin(alpha) + y_D) - y_D*(r*cos(alp\n",
       "ha) + x_D))*cos(alpha) - sqrt(r**2*sin(alpha)**2 + r**2*cos(alpha)**2 - (-x_D*\n",
       "(r*sin(alpha) + y_D) + y_D*(r*cos(alpha) + x_D))**2)*Abs(r*sin(alpha)))/(r**2*\n",
       "sin(alpha)**2 + r**2*cos(alpha)**2))**2 + (-r*cos(alpha) - x_D + (-r*(-x_D*(r*\n",
       "sin(alpha) + y_D) + y_D*(r*cos(alpha) + x_D))*sin(alpha) - r*sqrt(r**2*sin(alp\n",
       "ha)**2 + r**2*cos(alpha)**2 - (-x_D*(r*sin(alpha) + y_D) + y_D*(r*cos(alpha) +\n",
       " x_D))**2)*cos(alpha)*sign(r*sin(alpha)))/(r**2*sin(alpha)**2 + r**2*cos(alpha\n",
       ")**2))**2), sqrt((-r*sin(alpha) - y_D + (-r*(x_D*(r*sin(alpha) + y_D) - y_D*(r\n",
       "*cos(alpha) + x_D))*cos(alpha) + sqrt(r**2*sin(alpha)**2 + r**2*cos(alpha)**2 \n",
       "- (-x_D*(r*sin(alpha) + y_D) + y_D*(r*cos(alpha) + x_D))**2)*Abs(r*sin(alpha))\n",
       ")/(r**2*sin(alpha)**2 + r**2*cos(alpha)**2))**2 + (-r*cos(alpha) - x_D + (-r*(\n",
       "-x_D*(r*sin(alpha) + y_D) + y_D*(r*cos(alpha) + x_D))*sin(alpha) + r*sqrt(r**2\n",
       "*sin(alpha)**2 + r**2*cos(alpha)**2 - (-x_D*(r*sin(alpha) + y_D) + y_D*(r*cos(\n",
       "alpha) + x_D))**2)*cos(alpha)*sign(r*sin(alpha)))/(r**2*sin(alpha)**2 + r**2*c\n",
       "os(alpha)**2))**2))"
      ]
     },
     "execution_count": 17,
     "metadata": {},
     "output_type": "execute_result"
    }
   ],
   "source": [
    "R=1\n",
    "f()"
   ]
  },
  {
   "cell_type": "code",
   "execution_count": 18,
   "metadata": {},
   "outputs": [
    {
     "data": {
      "text/latex": [
       "$\\displaystyle \\min\\left(\\sqrt{\\left(- x_{D} + \\frac{- 0.25 \\left(- x_{D} \\left(y_{D} + 0.25 \\sin{\\left(\\alpha \\right)}\\right) + y_{D} \\left(x_{D} + 0.25 \\cos{\\left(\\alpha \\right)}\\right)\\right) \\sin{\\left(\\alpha \\right)} - 0.25 \\sqrt{- \\left(- x_{D} \\left(y_{D} + 0.25 \\sin{\\left(\\alpha \\right)}\\right) + y_{D} \\left(x_{D} + 0.25 \\cos{\\left(\\alpha \\right)}\\right)\\right)^{2} + 0.0625 \\sin^{2}{\\left(\\alpha \\right)} + 0.0625 \\cos^{2}{\\left(\\alpha \\right)}} \\cos{\\left(\\alpha \\right)} \\operatorname{sign}{\\left(\\sin{\\left(\\alpha \\right)} \\right)}}{0.0625 \\sin^{2}{\\left(\\alpha \\right)} + 0.0625 \\cos^{2}{\\left(\\alpha \\right)}} - 0.25 \\cos{\\left(\\alpha \\right)}\\right)^{2} + \\left(- y_{D} + \\frac{- 0.25 \\left(x_{D} \\left(y_{D} + 0.25 \\sin{\\left(\\alpha \\right)}\\right) - y_{D} \\left(x_{D} + 0.25 \\cos{\\left(\\alpha \\right)}\\right)\\right) \\cos{\\left(\\alpha \\right)} - 0.25 \\sqrt{- \\left(- x_{D} \\left(y_{D} + 0.25 \\sin{\\left(\\alpha \\right)}\\right) + y_{D} \\left(x_{D} + 0.25 \\cos{\\left(\\alpha \\right)}\\right)\\right)^{2} + 0.0625 \\sin^{2}{\\left(\\alpha \\right)} + 0.0625 \\cos^{2}{\\left(\\alpha \\right)}} \\left|{\\sin{\\left(\\alpha \\right)}}\\right|}{0.0625 \\sin^{2}{\\left(\\alpha \\right)} + 0.0625 \\cos^{2}{\\left(\\alpha \\right)}} - 0.25 \\sin{\\left(\\alpha \\right)}\\right)^{2}}, \\sqrt{\\left(- x_{D} + \\frac{- 0.25 \\left(- x_{D} \\left(y_{D} + 0.25 \\sin{\\left(\\alpha \\right)}\\right) + y_{D} \\left(x_{D} + 0.25 \\cos{\\left(\\alpha \\right)}\\right)\\right) \\sin{\\left(\\alpha \\right)} + 0.25 \\sqrt{- \\left(- x_{D} \\left(y_{D} + 0.25 \\sin{\\left(\\alpha \\right)}\\right) + y_{D} \\left(x_{D} + 0.25 \\cos{\\left(\\alpha \\right)}\\right)\\right)^{2} + 0.0625 \\sin^{2}{\\left(\\alpha \\right)} + 0.0625 \\cos^{2}{\\left(\\alpha \\right)}} \\cos{\\left(\\alpha \\right)} \\operatorname{sign}{\\left(\\sin{\\left(\\alpha \\right)} \\right)}}{0.0625 \\sin^{2}{\\left(\\alpha \\right)} + 0.0625 \\cos^{2}{\\left(\\alpha \\right)}} - 0.25 \\cos{\\left(\\alpha \\right)}\\right)^{2} + \\left(- y_{D} + \\frac{- 0.25 \\left(x_{D} \\left(y_{D} + 0.25 \\sin{\\left(\\alpha \\right)}\\right) - y_{D} \\left(x_{D} + 0.25 \\cos{\\left(\\alpha \\right)}\\right)\\right) \\cos{\\left(\\alpha \\right)} + 0.25 \\sqrt{- \\left(- x_{D} \\left(y_{D} + 0.25 \\sin{\\left(\\alpha \\right)}\\right) + y_{D} \\left(x_{D} + 0.25 \\cos{\\left(\\alpha \\right)}\\right)\\right)^{2} + 0.0625 \\sin^{2}{\\left(\\alpha \\right)} + 0.0625 \\cos^{2}{\\left(\\alpha \\right)}} \\left|{\\sin{\\left(\\alpha \\right)}}\\right|}{0.0625 \\sin^{2}{\\left(\\alpha \\right)} + 0.0625 \\cos^{2}{\\left(\\alpha \\right)}} - 0.25 \\sin{\\left(\\alpha \\right)}\\right)^{2}}\\right)$"
      ],
      "text/plain": [
       "Min(sqrt((-x_D + (-0.25*(-x_D*(y_D + 0.25*sin(alpha)) + y_D*(x_D + 0.25*cos(al\n",
       "pha)))*sin(alpha) - 0.25*sqrt(-(-x_D*(y_D + 0.25*sin(alpha)) + y_D*(x_D + 0.25\n",
       "*cos(alpha)))**2 + 0.0625*sin(alpha)**2 + 0.0625*cos(alpha)**2)*cos(alpha)*sig\n",
       "n(sin(alpha)))/(0.0625*sin(alpha)**2 + 0.0625*cos(alpha)**2) - 0.25*cos(alpha)\n",
       ")**2 + (-y_D + (-0.25*(x_D*(y_D + 0.25*sin(alpha)) - y_D*(x_D + 0.25*cos(alpha\n",
       ")))*cos(alpha) - 0.25*sqrt(-(-x_D*(y_D + 0.25*sin(alpha)) + y_D*(x_D + 0.25*co\n",
       "s(alpha)))**2 + 0.0625*sin(alpha)**2 + 0.0625*cos(alpha)**2)*Abs(sin(alpha)))/\n",
       "(0.0625*sin(alpha)**2 + 0.0625*cos(alpha)**2) - 0.25*sin(alpha))**2), sqrt((-x\n",
       "_D + (-0.25*(-x_D*(y_D + 0.25*sin(alpha)) + y_D*(x_D + 0.25*cos(alpha)))*sin(a\n",
       "lpha) + 0.25*sqrt(-(-x_D*(y_D + 0.25*sin(alpha)) + y_D*(x_D + 0.25*cos(alpha))\n",
       ")**2 + 0.0625*sin(alpha)**2 + 0.0625*cos(alpha)**2)*cos(alpha)*sign(sin(alpha)\n",
       "))/(0.0625*sin(alpha)**2 + 0.0625*cos(alpha)**2) - 0.25*cos(alpha))**2 + (-y_D\n",
       " + (-0.25*(x_D*(y_D + 0.25*sin(alpha)) - y_D*(x_D + 0.25*cos(alpha)))*cos(alph\n",
       "a) + 0.25*sqrt(-(-x_D*(y_D + 0.25*sin(alpha)) + y_D*(x_D + 0.25*cos(alpha)))**\n",
       "2 + 0.0625*sin(alpha)**2 + 0.0625*cos(alpha)**2)*Abs(sin(alpha)))/(0.0625*sin(\n",
       "alpha)**2 + 0.0625*cos(alpha)**2) - 0.25*sin(alpha))**2))"
      ]
     },
     "execution_count": 18,
     "metadata": {},
     "output_type": "execute_result"
    }
   ],
   "source": [
    "r=1/4\n",
    "f()\n"
   ]
  },
  {
   "cell_type": "code",
   "execution_count": 19,
   "metadata": {},
   "outputs": [
    {
     "data": {
      "text/latex": [
       "$\\displaystyle \\min\\left(\\sqrt{\\left(- x_{D} + \\frac{- 0.25 \\left(- x_{D} \\left(0.25 \\sin{\\left(\\alpha \\right)} - 0.111111111111111\\right) - 0.111111111111111 x_{D} - 0.0277777777777778 \\cos{\\left(\\alpha \\right)}\\right) \\sin{\\left(\\alpha \\right)} - 0.25 \\sqrt{- \\left(- x_{D} \\left(0.25 \\sin{\\left(\\alpha \\right)} - 0.111111111111111\\right) - 0.111111111111111 x_{D} - 0.0277777777777778 \\cos{\\left(\\alpha \\right)}\\right)^{2} + 0.0625 \\sin^{2}{\\left(\\alpha \\right)} + 0.0625 \\cos^{2}{\\left(\\alpha \\right)}} \\cos{\\left(\\alpha \\right)} \\operatorname{sign}{\\left(\\sin{\\left(\\alpha \\right)} \\right)}}{0.0625 \\sin^{2}{\\left(\\alpha \\right)} + 0.0625 \\cos^{2}{\\left(\\alpha \\right)}} - 0.25 \\cos{\\left(\\alpha \\right)}\\right)^{2} + \\left(\\frac{- 0.25 \\left(x_{D} \\left(0.25 \\sin{\\left(\\alpha \\right)} - 0.111111111111111\\right) + 0.111111111111111 x_{D} + 0.0277777777777778 \\cos{\\left(\\alpha \\right)}\\right) \\cos{\\left(\\alpha \\right)} - 0.25 \\sqrt{- \\left(- x_{D} \\left(0.25 \\sin{\\left(\\alpha \\right)} - 0.111111111111111\\right) - 0.111111111111111 x_{D} - 0.0277777777777778 \\cos{\\left(\\alpha \\right)}\\right)^{2} + 0.0625 \\sin^{2}{\\left(\\alpha \\right)} + 0.0625 \\cos^{2}{\\left(\\alpha \\right)}} \\left|{\\sin{\\left(\\alpha \\right)}}\\right|}{0.0625 \\sin^{2}{\\left(\\alpha \\right)} + 0.0625 \\cos^{2}{\\left(\\alpha \\right)}} - 0.25 \\sin{\\left(\\alpha \\right)} + 0.111111111111111\\right)^{2}}, \\sqrt{\\left(- x_{D} + \\frac{- 0.25 \\left(- x_{D} \\left(0.25 \\sin{\\left(\\alpha \\right)} - 0.111111111111111\\right) - 0.111111111111111 x_{D} - 0.0277777777777778 \\cos{\\left(\\alpha \\right)}\\right) \\sin{\\left(\\alpha \\right)} + 0.25 \\sqrt{- \\left(- x_{D} \\left(0.25 \\sin{\\left(\\alpha \\right)} - 0.111111111111111\\right) - 0.111111111111111 x_{D} - 0.0277777777777778 \\cos{\\left(\\alpha \\right)}\\right)^{2} + 0.0625 \\sin^{2}{\\left(\\alpha \\right)} + 0.0625 \\cos^{2}{\\left(\\alpha \\right)}} \\cos{\\left(\\alpha \\right)} \\operatorname{sign}{\\left(\\sin{\\left(\\alpha \\right)} \\right)}}{0.0625 \\sin^{2}{\\left(\\alpha \\right)} + 0.0625 \\cos^{2}{\\left(\\alpha \\right)}} - 0.25 \\cos{\\left(\\alpha \\right)}\\right)^{2} + \\left(\\frac{- 0.25 \\left(x_{D} \\left(0.25 \\sin{\\left(\\alpha \\right)} - 0.111111111111111\\right) + 0.111111111111111 x_{D} + 0.0277777777777778 \\cos{\\left(\\alpha \\right)}\\right) \\cos{\\left(\\alpha \\right)} + 0.25 \\sqrt{- \\left(- x_{D} \\left(0.25 \\sin{\\left(\\alpha \\right)} - 0.111111111111111\\right) - 0.111111111111111 x_{D} - 0.0277777777777778 \\cos{\\left(\\alpha \\right)}\\right)^{2} + 0.0625 \\sin^{2}{\\left(\\alpha \\right)} + 0.0625 \\cos^{2}{\\left(\\alpha \\right)}} \\left|{\\sin{\\left(\\alpha \\right)}}\\right|}{0.0625 \\sin^{2}{\\left(\\alpha \\right)} + 0.0625 \\cos^{2}{\\left(\\alpha \\right)}} - 0.25 \\sin{\\left(\\alpha \\right)} + 0.111111111111111\\right)^{2}}\\right)$"
      ],
      "text/plain": [
       "Min(sqrt((-x_D + (-0.25*(-x_D*(0.25*sin(alpha) - 0.111111111111111) - 0.111111\n",
       "111111111*x_D - 0.0277777777777778*cos(alpha))*sin(alpha) - 0.25*sqrt(-(-x_D*(\n",
       "0.25*sin(alpha) - 0.111111111111111) - 0.111111111111111*x_D - 0.0277777777777\n",
       "778*cos(alpha))**2 + 0.0625*sin(alpha)**2 + 0.0625*cos(alpha)**2)*cos(alpha)*s\n",
       "ign(sin(alpha)))/(0.0625*sin(alpha)**2 + 0.0625*cos(alpha)**2) - 0.25*cos(alph\n",
       "a))**2 + ((-0.25*(x_D*(0.25*sin(alpha) - 0.111111111111111) + 0.11111111111111\n",
       "1*x_D + 0.0277777777777778*cos(alpha))*cos(alpha) - 0.25*sqrt(-(-x_D*(0.25*sin\n",
       "(alpha) - 0.111111111111111) - 0.111111111111111*x_D - 0.0277777777777778*cos(\n",
       "alpha))**2 + 0.0625*sin(alpha)**2 + 0.0625*cos(alpha)**2)*Abs(sin(alpha)))/(0.\n",
       "0625*sin(alpha)**2 + 0.0625*cos(alpha)**2) - 0.25*sin(alpha) + 0.1111111111111\n",
       "11)**2), sqrt((-x_D + (-0.25*(-x_D*(0.25*sin(alpha) - 0.111111111111111) - 0.1\n",
       "11111111111111*x_D - 0.0277777777777778*cos(alpha))*sin(alpha) + 0.25*sqrt(-(-\n",
       "x_D*(0.25*sin(alpha) - 0.111111111111111) - 0.111111111111111*x_D - 0.02777777\n",
       "77777778*cos(alpha))**2 + 0.0625*sin(alpha)**2 + 0.0625*cos(alpha)**2)*cos(alp\n",
       "ha)*sign(sin(alpha)))/(0.0625*sin(alpha)**2 + 0.0625*cos(alpha)**2) - 0.25*cos\n",
       "(alpha))**2 + ((-0.25*(x_D*(0.25*sin(alpha) - 0.111111111111111) + 0.111111111\n",
       "111111*x_D + 0.0277777777777778*cos(alpha))*cos(alpha) + 0.25*sqrt(-(-x_D*(0.2\n",
       "5*sin(alpha) - 0.111111111111111) - 0.111111111111111*x_D - 0.0277777777777778\n",
       "*cos(alpha))**2 + 0.0625*sin(alpha)**2 + 0.0625*cos(alpha)**2)*Abs(sin(alpha))\n",
       ")/(0.0625*sin(alpha)**2 + 0.0625*cos(alpha)**2) - 0.25*sin(alpha) + 0.11111111\n",
       "1111111)**2))"
      ]
     },
     "execution_count": 19,
     "metadata": {},
     "output_type": "execute_result"
    }
   ],
   "source": [
    "y_D=-1/9\n",
    "f()"
   ]
  },
  {
   "cell_type": "code",
   "execution_count": 20,
   "metadata": {},
   "outputs": [
    {
     "data": {
      "text/latex": [
       "$\\displaystyle \\min\\left(\\sqrt{\\left(\\frac{- 0.25 \\left(- 0.0357142857142857 \\sin{\\left(\\alpha \\right)} - 0.0277777777777778 \\cos{\\left(\\alpha \\right)}\\right) \\sin{\\left(\\alpha \\right)} - 0.0625 \\sqrt{- 0.0204081632653061 \\left(- \\sin{\\left(\\alpha \\right)} - 0.777777777777778 \\cos{\\left(\\alpha \\right)}\\right)^{2} + \\sin^{2}{\\left(\\alpha \\right)} + \\cos^{2}{\\left(\\alpha \\right)}} \\cos{\\left(\\alpha \\right)} \\operatorname{sign}{\\left(\\sin{\\left(\\alpha \\right)} \\right)}}{0.0625 \\sin^{2}{\\left(\\alpha \\right)} + 0.0625 \\cos^{2}{\\left(\\alpha \\right)}} - 0.25 \\cos{\\left(\\alpha \\right)} - 0.142857142857143\\right)^{2} + \\left(\\frac{- 0.25 \\left(0.0357142857142857 \\sin{\\left(\\alpha \\right)} + 0.0277777777777778 \\cos{\\left(\\alpha \\right)}\\right) \\cos{\\left(\\alpha \\right)} - 0.0625 \\sqrt{- 0.0204081632653061 \\left(- \\sin{\\left(\\alpha \\right)} - 0.777777777777778 \\cos{\\left(\\alpha \\right)}\\right)^{2} + \\sin^{2}{\\left(\\alpha \\right)} + \\cos^{2}{\\left(\\alpha \\right)}} \\left|{\\sin{\\left(\\alpha \\right)}}\\right|}{0.0625 \\sin^{2}{\\left(\\alpha \\right)} + 0.0625 \\cos^{2}{\\left(\\alpha \\right)}} - 0.25 \\sin{\\left(\\alpha \\right)} + 0.111111111111111\\right)^{2}}, \\sqrt{\\left(\\frac{- 0.25 \\left(- 0.0357142857142857 \\sin{\\left(\\alpha \\right)} - 0.0277777777777778 \\cos{\\left(\\alpha \\right)}\\right) \\sin{\\left(\\alpha \\right)} + 0.0625 \\sqrt{- 0.0204081632653061 \\left(- \\sin{\\left(\\alpha \\right)} - 0.777777777777778 \\cos{\\left(\\alpha \\right)}\\right)^{2} + \\sin^{2}{\\left(\\alpha \\right)} + \\cos^{2}{\\left(\\alpha \\right)}} \\cos{\\left(\\alpha \\right)} \\operatorname{sign}{\\left(\\sin{\\left(\\alpha \\right)} \\right)}}{0.0625 \\sin^{2}{\\left(\\alpha \\right)} + 0.0625 \\cos^{2}{\\left(\\alpha \\right)}} - 0.25 \\cos{\\left(\\alpha \\right)} - 0.142857142857143\\right)^{2} + \\left(\\frac{- 0.25 \\left(0.0357142857142857 \\sin{\\left(\\alpha \\right)} + 0.0277777777777778 \\cos{\\left(\\alpha \\right)}\\right) \\cos{\\left(\\alpha \\right)} + 0.0625 \\sqrt{- 0.0204081632653061 \\left(- \\sin{\\left(\\alpha \\right)} - 0.777777777777778 \\cos{\\left(\\alpha \\right)}\\right)^{2} + \\sin^{2}{\\left(\\alpha \\right)} + \\cos^{2}{\\left(\\alpha \\right)}} \\left|{\\sin{\\left(\\alpha \\right)}}\\right|}{0.0625 \\sin^{2}{\\left(\\alpha \\right)} + 0.0625 \\cos^{2}{\\left(\\alpha \\right)}} - 0.25 \\sin{\\left(\\alpha \\right)} + 0.111111111111111\\right)^{2}}\\right)$"
      ],
      "text/plain": [
       "Min(sqrt(((-0.25*(-0.0357142857142857*sin(alpha) - 0.0277777777777778*cos(alph\n",
       "a))*sin(alpha) - 0.0625*sqrt(-0.0204081632653061*(-sin(alpha) - 0.777777777777\n",
       "778*cos(alpha))**2 + sin(alpha)**2 + cos(alpha)**2)*cos(alpha)*sign(sin(alpha)\n",
       "))/(0.0625*sin(alpha)**2 + 0.0625*cos(alpha)**2) - 0.25*cos(alpha) - 0.1428571\n",
       "42857143)**2 + ((-0.25*(0.0357142857142857*sin(alpha) + 0.0277777777777778*cos\n",
       "(alpha))*cos(alpha) - 0.0625*sqrt(-0.0204081632653061*(-sin(alpha) - 0.7777777\n",
       "77777778*cos(alpha))**2 + sin(alpha)**2 + cos(alpha)**2)*Abs(sin(alpha)))/(0.0\n",
       "625*sin(alpha)**2 + 0.0625*cos(alpha)**2) - 0.25*sin(alpha) + 0.11111111111111\n",
       "1)**2), sqrt(((-0.25*(-0.0357142857142857*sin(alpha) - 0.0277777777777778*cos(\n",
       "alpha))*sin(alpha) + 0.0625*sqrt(-0.0204081632653061*(-sin(alpha) - 0.77777777\n",
       "7777778*cos(alpha))**2 + sin(alpha)**2 + cos(alpha)**2)*cos(alpha)*sign(sin(al\n",
       "pha)))/(0.0625*sin(alpha)**2 + 0.0625*cos(alpha)**2) - 0.25*cos(alpha) - 0.142\n",
       "857142857143)**2 + ((-0.25*(0.0357142857142857*sin(alpha) + 0.0277777777777778\n",
       "*cos(alpha))*cos(alpha) + 0.0625*sqrt(-0.0204081632653061*(-sin(alpha) - 0.777\n",
       "777777777778*cos(alpha))**2 + sin(alpha)**2 + cos(alpha)**2)*Abs(sin(alpha)))/\n",
       "(0.0625*sin(alpha)**2 + 0.0625*cos(alpha)**2) - 0.25*sin(alpha) + 0.1111111111\n",
       "11111)**2))"
      ]
     },
     "execution_count": 20,
     "metadata": {},
     "output_type": "execute_result"
    }
   ],
   "source": [
    "x_D=1/7\n",
    "f()"
   ]
  },
  {
   "cell_type": "code",
   "execution_count": 21,
   "metadata": {},
   "outputs": [
    {
     "data": {
      "image/png": "[encoded data removed]",
      "text/plain": [
       "<Figure size 432x288 with 1 Axes>"
      ]
     },
     "metadata": {
      "needs_background": "light"
     },
     "output_type": "display_data"
    },
    {
     "data": {
      "text/plain": [
       "<sympy.plotting.plot.Plot at 0x7f603bf7df60>"
      ]
     },
     "execution_count": 21,
     "metadata": {},
     "output_type": "execute_result"
    }
   ],
   "source": [
    "plot(f(),(alpha,0,2*pi),xlabel='alpha',ylabel='f',axis_center=(0,0),title='f')"
   ]
  },
  {
   "cell_type": "code",
   "execution_count": null,
   "metadata": {},
   "outputs": [],
   "source": []
  }
 ],
 "metadata": {
  "kernelspec": {
   "display_name": "Python 2",
   "language": "python",
   "name": "python2"
  },
  "language_info": {
   "codemirror_mode": {
    "name": "ipython",
    "version": 3
   },
   "file_extension": ".py",
   "mimetype": "text/x-python",
   "name": "python",
   "nbconvert_exporter": "python",
   "pygments_lexer": "ipython3",
   "version": "3.6.9"
  }
 },
 "nbformat": 4,
 "nbformat_minor": 4
}
