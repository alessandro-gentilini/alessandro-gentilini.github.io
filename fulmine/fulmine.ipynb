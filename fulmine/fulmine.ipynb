{
 "cells": [
  {
   "cell_type": "code",
   "execution_count": 1,
   "metadata": {
    "collapsed": true
   },
   "outputs": [],
   "source": [
    "import pint\n",
    "import math"
   ]
  },
  {
   "cell_type": "code",
   "execution_count": 2,
   "metadata": {},
   "outputs": [],
   "source": [
    "ureg = pint.UnitRegistry()"
   ]
  },
  {
   "cell_type": "markdown",
   "metadata": {},
   "source": [
    "Calore specifico del ferro, relativo alla massa, preso da [Wikipedia](https://it.wikipedia.org/wiki/Calore_specifico). È l'energia che serve per innalzare la temperatura dell' unità di massa di 1 grado Kelvin.\n"
   ]
  },
  {
   "cell_type": "code",
   "execution_count": 3,
   "metadata": {},
   "outputs": [],
   "source": [
    "\n",
    "specific_heat_iron=460*ureg.joule/ureg.kg/ureg.kelvin"
   ]
  },
  {
   "cell_type": "markdown",
   "metadata": {},
   "source": [
    "Consideriamo un cilindro di ferro.\n"
   ]
  },
  {
   "cell_type": "code",
   "execution_count": null,
   "metadata": {},
   "outputs": [],
   "source": [
    "radius=10*ureg.cm\n",
    "length=15*ureg.meter\n",
    "volume=radius*radius*math.pi*length\n"
   ]
  },
  {
   "cell_type": "markdown",
   "metadata": {},
   "source": [
    "Densita del ferro cioe la massa di un certo volume di ferro.\n"
   ]
  },
  {
   "cell_type": "code",
   "execution_count": null,
   "metadata": {},
   "outputs": [],
   "source": [
    "\n",
    "iron_density=7960*ureg.kg/ureg.m**3\n"
   ]
  },
  {
   "cell_type": "markdown",
   "metadata": {},
   "source": [
    "Differenza tra temperatura ambiente e temperatura di fusione del ferro\n"
   ]
  },
  {
   "cell_type": "code",
   "execution_count": null,
   "metadata": {},
   "outputs": [],
   "source": [
    "\n",
    "Q_=ureg.Quantity\n",
    "T_fusion=Q_(1535,ureg.celsius)\n",
    "T_ambient=Q_(40,ureg.celsius)\n",
    "delta_T=T_fusion-T_ambient\n",
    "delta_T_kelvin=delta_T.to('kelvin')\n"
   ]
  },
  {
   "cell_type": "markdown",
   "metadata": {},
   "source": [
    "\n"
   ]
  },
  {
   "cell_type": "code",
   "execution_count": 13,
   "metadata": {},
   "outputs": [
    {
     "name": "stdout",
     "output_type": "stream",
     "text": [
      "2519212989.62 joule\n"
     ]
    }
   ],
   "source": [
    "energy_to_reach_melting_point = (specific_heat_iron*iron_density*volume*delta_T_kelvin).to('joule')\n",
    "print(energy_to_reach_melting_point)"
   ]
  },
  {
   "cell_type": "markdown",
   "metadata": {},
   "source": [
    "Calore latente di fusione, preso da (Heat of Fusion and Vaporization)[http://ch301.cm.utexas.edu/data/section2.php?target=heat-transition.php].\n"
   ]
  },
  {
   "cell_type": "code",
   "execution_count": null,
   "metadata": {},
   "outputs": [],
   "source": [
    "\n",
    "specific_latent_heat_for_fusion=209*ureg.joule/ureg.gram\n"
   ]
  },
  {
   "cell_type": "markdown",
   "metadata": {},
   "source": [
    "\n"
   ]
  },
  {
   "cell_type": "code",
   "execution_count": null,
   "metadata": {},
   "outputs": [],
   "source": [
    "energy_to_melt=(specific_latent_heat_for_fusion*volume*iron_density).to('joule')\n"
   ]
  },
  {
   "cell_type": "markdown",
   "metadata": {},
   "source": [
    "Energia media di un fulmine, valore preso da [Elementi di Impianti Elettrici](http://www.die.ing.unibo.it/pers/cristofo/didattica/dispense/14impel.pdf)\n"
   ]
  },
  {
   "cell_type": "code",
   "execution_count": 14,
   "metadata": {},
   "outputs": [],
   "source": [
    "average_lightning_energy=50*1e6*ureg.joule\n"
   ]
  },
  {
   "cell_type": "code",
   "execution_count": 15,
   "metadata": {},
   "outputs": [
    {
     "name": "stdout",
     "output_type": "stream",
     "text": [
      "0.0151758202762 dimensionless\n"
     ]
    }
   ],
   "source": [
    "print(average_lightning_energy/(energy_to_melt+energy_to_reach_melting_point))\n",
    "\n"
   ]
  },
  {
   "cell_type": "code",
   "execution_count": null,
   "metadata": {},
   "outputs": [],
   "source": []
  }
 ],
 "metadata": {
  "kernelspec": {
   "display_name": "Python 2",
   "language": "python",
   "name": "python2"
  },
  "language_info": {
   "codemirror_mode": {
    "name": "ipython",
    "version": 2
   },
   "file_extension": ".py",
   "mimetype": "text/x-python",
   "name": "python",
   "nbconvert_exporter": "python",
   "pygments_lexer": "ipython2",
   "version": "2.7.6"
  }
 },
 "nbformat": 4,
 "nbformat_minor": 0
}
