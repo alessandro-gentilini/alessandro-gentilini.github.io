{
 "cells": [
  {
   "cell_type": "markdown",
   "metadata": {
    "collapsed": true
   },
   "source": [
    "Può un fulmine fondere lo strallo di un ponte?\n",
    "\n",
    "La protezione dai fulmini è un lavoro non banale, vedere per esempio questo [Manuale per la protezione da fulmini](https://www.dehn.it/it/blitzplaner-manuale-la-protezione-da-fulmini).\n",
    "\n",
    "Qui invece semplifico estremamente il problema per avere una idea dell'ordine di grandezze delle energie in gioco.\n",
    "\n",
    "Considero l'energia media di un fulmine e la confronto con l'energia necessaria per fondere un cilindro di ferro di 15 metri di lunghezza e 20 centimetri di raggio."
   ]
  },
  {
   "cell_type": "code",
   "execution_count": 1,
   "metadata": {
    "collapsed": true
   },
   "outputs": [],
   "source": [
    "import pint\n",
    "import math\n"
   ]
  },
  {
   "cell_type": "code",
   "execution_count": 2,
   "metadata": {},
   "outputs": [],
   "source": [
    "ureg = pint.UnitRegistry()"
   ]
  },
  {
   "cell_type": "markdown",
   "metadata": {},
   "source": [
    "Calore specifico del ferro, relativo alla massa, preso da [Wikipedia](https://it.wikipedia.org/wiki/Calore_specifico). È l'energia che serve per innalzare la temperatura dell'unità di massa di 1 grado Kelvin.\n"
   ]
  },
  {
   "cell_type": "code",
   "execution_count": 3,
   "metadata": {},
   "outputs": [],
   "source": [
    "\n",
    "specific_heat_iron=460*ureg.joule/ureg.kg/ureg.kelvin"
   ]
  },
  {
   "cell_type": "markdown",
   "metadata": {},
   "source": [
    "Consideriamo un cilindro di ferro.\n"
   ]
  },
  {
   "cell_type": "code",
   "execution_count": 4,
   "metadata": {},
   "outputs": [],
   "source": [
    "radius=10*ureg.cm\n",
    "length=15*ureg.meter\n",
    "volume=radius*radius*math.pi*length\n"
   ]
  },
  {
   "cell_type": "markdown",
   "metadata": {},
   "source": [
    "Densità del ferro cioè la massa di un certo volume di ferro, valore preso da [Wikipedia](https://it.wikipedia.org/wiki/Ferro).\n"
   ]
  },
  {
   "cell_type": "code",
   "execution_count": 5,
   "metadata": {},
   "outputs": [],
   "source": [
    "\n",
    "iron_density=7960*ureg.kg/ureg.m**3\n"
   ]
  },
  {
   "cell_type": "markdown",
   "metadata": {},
   "source": [
    "Differenza tra temperatura ambiente e temperatura di fusione del ferro, valore preso da [Wikipedia](https://it.wikipedia.org/wiki/Ferro).\n"
   ]
  },
  {
   "cell_type": "code",
   "execution_count": 6,
   "metadata": {},
   "outputs": [],
   "source": [
    "\n",
    "Q_=ureg.Quantity\n",
    "T_fusion=Q_(1535,ureg.celsius)\n",
    "T_ambient=Q_(40,ureg.celsius)\n",
    "delta_T=T_fusion-T_ambient\n",
    "delta_T_kelvin=delta_T.to('kelvin')\n"
   ]
  },
  {
   "cell_type": "markdown",
   "metadata": {},
   "source": [
    "Energia necessaria per raggiungere il punto di fusione:\n"
   ]
  },
  {
   "cell_type": "code",
   "execution_count": 7,
   "metadata": {},
   "outputs": [
    {
     "name": "stdout",
     "output_type": "stream",
     "text": [
      "2579605081.84 joule\n"
     ]
    }
   ],
   "source": [
    "energy_to_reach_melting_point = (specific_heat_iron*iron_density*volume*delta_T_kelvin).to('joule')\n",
    "print(energy_to_reach_melting_point)"
   ]
  },
  {
   "cell_type": "markdown",
   "metadata": {},
   "source": [
    "Calore latente di fusione, preso da [Heat of Fusion and Vaporization](http://ch301.cm.utexas.edu/data/section2.php?target=heat-transition.php).\n"
   ]
  },
  {
   "cell_type": "code",
   "execution_count": 8,
   "metadata": {},
   "outputs": [],
   "source": [
    "\n",
    "specific_latent_heat_for_fusion=209*ureg.joule/ureg.gram\n"
   ]
  },
  {
   "cell_type": "markdown",
   "metadata": {},
   "source": [
    "Energia necessaria per la fusione:"
   ]
  },
  {
   "cell_type": "code",
   "execution_count": 9,
   "metadata": {},
   "outputs": [],
   "source": [
    "energy_to_melt=(specific_latent_heat_for_fusion*volume*iron_density).to('joule')\n"
   ]
  },
  {
   "cell_type": "markdown",
   "metadata": {},
   "source": [
    "Energia media di un fulmine, valore preso da [Elementi di Impianti Elettrici](http://www.die.ing.unibo.it/pers/cristofo/didattica/dispense/14impel.pdf)\n"
   ]
  },
  {
   "cell_type": "code",
   "execution_count": 10,
   "metadata": {},
   "outputs": [],
   "source": [
    "average_lightning_energy=50*1e6*ureg.joule\n"
   ]
  },
  {
   "cell_type": "markdown",
   "metadata": {},
   "source": [
    "L'energia media di un fulmine \n"
   ]
  },
  {
   "cell_type": "code",
   "execution_count": 12,
   "metadata": {},
   "outputs": [
    {
     "name": "stdout",
     "output_type": "stream",
     "text": [
      "False\n"
     ]
    }
   ],
   "source": [
    "print(average_lightning_energy>(energy_to_melt+energy_to_reach_melting_point))\n"
   ]
  },
  {
   "cell_type": "markdown",
   "metadata": {},
   "source": [
    "Quanto volte è più grande l'energia necessaria per la fusione rispetto a quella media del fulmine?"
   ]
  },
  {
   "cell_type": "code",
   "execution_count": 13,
   "metadata": {},
   "outputs": [
    {
     "name": "stdout",
     "output_type": "stream",
     "text": [
      "67.2715392435 dimensionless\n"
     ]
    }
   ],
   "source": [
    "print((energy_to_melt+energy_to_reach_melting_point)/average_lightning_energy)"
   ]
  },
  {
   "cell_type": "code",
   "execution_count": null,
   "metadata": {},
   "outputs": [],
   "source": []
  }
 ],
 "metadata": {
  "kernelspec": {
   "display_name": "Python 2",
   "language": "python",
   "name": "python2"
  },
  "language_info": {
   "codemirror_mode": {
    "name": "ipython",
    "version": 2
   },
   "file_extension": ".py",
   "mimetype": "text/x-python",
   "name": "python",
   "nbconvert_exporter": "python",
   "pygments_lexer": "ipython2",
   "version": "2.7.6"
  }
 },
 "nbformat": 4,
 "nbformat_minor": 0
}
