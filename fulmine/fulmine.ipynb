{
 "cells": [
  {
   "cell_type": "heading",
   "metadata": {
    "collapsed": true
   },
   "level": 1,
   "source": [
    "\n"
   ]
  },
  {
   "cell_type": "heading",
   "metadata": {
    "collapsed": true
   },
   "level": 1,
   "source": [
    "\n"
   ]
  },
  {
   "cell_type": "heading",
   "metadata": {
    "collapsed": true
   },
   "level": 1,
   "source": [
    "\n"
   ]
  },
  {
   "cell_type": "markdown",
   "metadata": {
    "collapsed": true
   },
   "source": [
    "#Può un fulmine fondere lo strallo di un ponte?\n",
    "\n",
    "La protezione dai fulmini è un lavoro non banale, vedere per esempio questo [Manuale per la protezione da fulmini](https://www.dehn.it/it/blitzplaner-manuale-la-protezione-da-fulmini).\n",
    "\n",
    "Qui invece semplifico estremamente il problema per avere una idea dell'ordine di grandezze delle energie in gioco.\n",
    "\n",
    "Considero l'energia media di un fulmine e la confronto con l'energia necessaria per fondere un cilindro di ferro di 15 metri di lunghezza e 20 centimetri di raggio."
   ]
  },
  {
   "cell_type": "code",
   "execution_count": 1,
   "metadata": {
    "collapsed": true
   },
   "outputs": [],
   "source": [
    "import pint\n",
    "import math\n"
   ]
  },
  {
   "cell_type": "code",
   "execution_count": 2,
   "metadata": {},
   "outputs": [],
   "source": [
    "ureg = pint.UnitRegistry()"
   ]
  },
  {
   "cell_type": "markdown",
   "metadata": {},
   "source": [
    "Calore specifico del ferro, relativo alla massa, preso da [Wikipedia](https://it.wikipedia.org/wiki/Calore_specifico). È l'energia che serve per innalzare la temperatura dell'unità di massa di 1 grado Kelvin.\n"
   ]
  },
  {
   "cell_type": "code",
   "execution_count": 3,
   "metadata": {},
   "outputs": [],
   "source": [
    "\n",
    "specific_heat_iron=460*ureg.joule/ureg.kg/ureg.kelvin"
   ]
  },
  {
   "cell_type": "markdown",
   "metadata": {},
   "source": [
    "Consideriamo un cilindro di ferro.\n"
   ]
  },
  {
   "cell_type": "code",
   "execution_count": 4,
   "metadata": {},
   "outputs": [],
   "source": [
    "radius=10*ureg.cm\n",
    "length=15*ureg.meter\n",
    "volume=radius*radius*math.pi*length\n"
   ]
  },
  {
   "cell_type": "markdown",
   "metadata": {},
   "source": [
    "Densità del ferro cioè la massa di un certo volume di ferro, valore preso da [Wikipedia](https://it.wikipedia.org/wiki/Ferro).\n"
   ]
  },
  {
   "cell_type": "code",
   "execution_count": 5,
   "metadata": {},
   "outputs": [],
   "source": [
    "\n",
    "iron_density=7960*ureg.kg/ureg.m**3\n"
   ]
  },
  {
   "cell_type": "markdown",
   "metadata": {},
   "source": [
    "Differenza tra temperatura ambiente e temperatura di fusione del ferro, valore preso da [Wikipedia](https://it.wikipedia.org/wiki/Ferro).\n"
   ]
  },
  {
   "cell_type": "code",
   "execution_count": 6,
   "metadata": {},
   "outputs": [],
   "source": [
    "\n",
    "Q_=ureg.Quantity\n",
    "T_fusion=Q_(1535,ureg.celsius)\n",
    "T_ambient=Q_(40,ureg.celsius)\n",
    "delta_T=T_fusion-T_ambient\n",
    "delta_T_kelvin=delta_T.to('kelvin')\n"
   ]
  },
  {
   "cell_type": "markdown",
   "metadata": {},
   "source": [
    "Energia necessaria per raggiungere il punto di fusione:\n"
   ]
  },
  {
   "cell_type": "code",
   "execution_count": 7,
   "metadata": {},
   "outputs": [
    {
     "name": "stdout",
     "output_type": "stream",
     "text": [
      "2579605081.84 joule\n"
     ]
    }
   ],
   "source": [
    "energy_to_reach_melting_point = (specific_heat_iron*iron_density*volume*delta_T_kelvin).to('joule')\n",
    "print(energy_to_reach_melting_point)"
   ]
  },
  {
   "cell_type": "markdown",
   "metadata": {},
   "source": [
    "Calore latente di fusione, preso da [Heat of Fusion and Vaporization](http://ch301.cm.utexas.edu/data/section2.php?target=heat-transition.php).\n"
   ]
  },
  {
   "cell_type": "code",
   "execution_count": 8,
   "metadata": {},
   "outputs": [],
   "source": [
    "\n",
    "specific_latent_heat_for_fusion=209*ureg.joule/ureg.gram\n"
   ]
  },
  {
   "cell_type": "markdown",
   "metadata": {},
   "source": [
    "Energia necessaria per la fusione:"
   ]
  },
  {
   "cell_type": "code",
   "execution_count": 9,
   "metadata": {},
   "outputs": [],
   "source": [
    "energy_to_melt=(specific_latent_heat_for_fusion*volume*iron_density).to('joule')\n"
   ]
  },
  {
   "cell_type": "markdown",
   "metadata": {},
   "source": [
    "Energia media di un fulmine, valore preso da [Elementi di Impianti Elettrici](http://www.die.ing.unibo.it/pers/cristofo/didattica/dispense/14impel.pdf)\n"
   ]
  },
  {
   "cell_type": "code",
   "execution_count": 10,
   "metadata": {},
   "outputs": [],
   "source": [
    "average_lightning_energy=50*1e6*ureg.joule\n"
   ]
  },
  {
   "cell_type": "markdown",
   "metadata": {},
   "source": [
    "L'energia media di un fulmine \n"
   ]
  },
  {
   "cell_type": "code",
   "execution_count": 11,
   "metadata": {},
   "outputs": [
    {
     "name": "stdout",
     "output_type": "stream",
     "text": [
      "False\n"
     ]
    }
   ],
   "source": [
    "print(average_lightning_energy>(energy_to_melt+energy_to_reach_melting_point))\n"
   ]
  },
  {
   "cell_type": "markdown",
   "metadata": {},
   "source": [
    "Quanto volte è più grande l'energia necessaria per la fusione rispetto a quella media del fulmine?"
   ]
  },
  {
   "cell_type": "code",
   "execution_count": 12,
   "metadata": {},
   "outputs": [
    {
     "name": "stdout",
     "output_type": "stream",
     "text": [
      "67.2715392435 dimensionless\n"
     ]
    }
   ],
   "source": [
    "print((energy_to_melt+energy_to_reach_melting_point)/average_lightning_energy)"
   ]
  },
  {
   "cell_type": "markdown",
   "metadata": {},
   "source": [
    "Quindi da questo calcolo rozzo sarebbe necessario un fulmine 60 volte più energetico della media... 60 è molto? È poco? Non lo so... se fosse risultato 60 miliardi allora probabilmente avrei concluso che la probabilità che un fulmine fonda uno strallo sia praticamente nulla. Ma 60 è un numero per me sufficientemente piccolo da farmi concludere che il modello che ho usato è tropo grezzo per rispondere alla domanda iniziale.\n",
    "\n",
    "Se invece il modello fosse accurato allora metterei in dubbio i valori che ho usato... quello più dubbioso è l'energia media del fulmine; un discorso a parte è per le proprietà termiche che andrebbero considerate per l'[acciaio](https://materialsdata.nist.gov/bitstream/handle/11115/166/Thermophysical%20Properties.pdf?sequence=3&isAllowed=y) tipico usato negli stralli e non per il ferro (tra l'altro queste proprietà [variano al variare della temperatura](https://webbook.nist.gov/cgi/cbook.cgi?ID=C7439896&Type=JANAFS&Plot=on#JANAFS) e quindi il calcolo sarebbe un poco più complicato). "
   ]
  },
  {
   "cell_type": "markdown",
   "metadata": {},
   "source": [
    "Un modello diverso è quello che considera lo strallo come un conduttore elettrico e quindi valuta l'energia necessaria per fonderlo come se fosse un fusibile."
   ]
  },
  {
   "cell_type": "markdown",
   "metadata": {},
   "source": [
    "\n"
   ]
  },
  {
   "cell_type": "markdown",
   "metadata": {},
   "source": [
    "Comunque le opionioni sono le più varie...\n",
    "\n",
    "_Poi l'esperto rifiuta ogni ipotesi legata ad un fulmine, come era emerso nei primissimi minuti dopo la tragedia: \"La pioggia, i tuoni, l'eccesso di carico sono ipotesi fantasiose - ha detto - che non vanno prese neanche in considerazione\"._\n",
    "[http://www.ilgiornale.it/news/cronache/ponte-genova-si-indaga-sulla-rottura-tirante-ipotesi-seria-1565819.html](http://www.ilgiornale.it/news/cronache/ponte-genova-si-indaga-sulla-rottura-tirante-ipotesi-seria-1565819.html)\n",
    "\n",
    "_Un fulmine che colpisce [non dovrebbe mai succedere] uno o più stralli con una potenza di 20.000 KVA con temperature elevatissime di migliaia di gradi, liquefa’ in un istante gli stralli in acciaio, provocando la rottura degli stralli, e la caduta immediata dell’impalcato (si vede nel filmato)._\n",
    "[https://catania.livesicilia.it/2018/08/18/genova-acciaio-liquefatto-ecco-perche-e-crollato-il-ponte_470567/](https://catania.livesicilia.it/2018/08/18/genova-acciaio-liquefatto-ecco-perche-e-crollato-il-ponte_470567/)"
   ]
  },
  {
   "cell_type": "markdown",
   "metadata": {},
   "source": [
    "\n"
   ]
  }
 ],
 "metadata": {
  "kernelspec": {
   "display_name": "Python 2",
   "language": "python",
   "name": "python2"
  },
  "language_info": {
   "codemirror_mode": {
    "name": "ipython",
    "version": 2
   },
   "file_extension": ".py",
   "mimetype": "text/x-python",
   "name": "python",
   "nbconvert_exporter": "python",
   "pygments_lexer": "ipython2",
   "version": "2.7.6"
  }
 },
 "nbformat": 4,
 "nbformat_minor": 0
}
