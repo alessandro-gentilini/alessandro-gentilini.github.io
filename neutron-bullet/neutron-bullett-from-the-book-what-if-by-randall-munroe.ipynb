{
 "cells": [
  {
   "cell_type": "code",
   "execution_count": 1,
   "metadata": {
    "collapsed": true
   },
   "outputs": [],
   "source": [
    "from sympy import *\n",
    "init_printing(use_latex='mathjax')\n"
   ]
  },
  {
   "cell_type": "code",
   "execution_count": 2,
   "metadata": {
    "collapsed": false
   },
   "outputs": [],
   "source": [
    "m_T,m_B,m = symbols('M_\\oplus m_B m')\n",
    "R_T,d_B=symbols('R_T d_B')\n",
    "G=symbols('G')\n",
    "F=symbols('F')"
   ]
  },
  {
   "cell_type": "code",
   "execution_count": 3,
   "metadata": {
    "collapsed": false
   },
   "outputs": [],
   "source": [
    "from sympy.vector import CoordSysCartesian\n",
    "N = CoordSysCartesian('N')"
   ]
  },
  {
   "cell_type": "code",
   "execution_count": 4,
   "metadata": {
    "collapsed": false
   },
   "outputs": [],
   "source": [
    "F=G*m*(m_B/d_B**2*N.i-m_T/R_T**2*N.j)"
   ]
  },
  {
   "cell_type": "code",
   "execution_count": 5,
   "metadata": {
    "collapsed": false
   },
   "outputs": [
    {
     "data": {
      "text/latex": [
       "$$\\sqrt{\\frac{G^{2} M_\\oplus^{2}}{R_{T}^{4}} m^{2} + \\frac{G^{2} m^{2}}{d_{B}^{4}} m_{B}^{2}}$$"
      ],
      "text/plain": [
       "      ______________________________\n",
       "     ╱  2         2  2    2  2    2 \n",
       "    ╱  G ⋅M_\\oplus ⋅m    G ⋅m ⋅m_B  \n",
       "   ╱   ─────────────── + ────────── \n",
       "  ╱             4              4    \n",
       "╲╱           R_T            d_B     "
      ]
     },
     "execution_count": 5,
     "metadata": {},
     "output_type": "execute_result"
    }
   ],
   "source": [
    "F.magnitude()"
   ]
  },
  {
   "cell_type": "code",
   "execution_count": 6,
   "metadata": {
    "collapsed": false
   },
   "outputs": [],
   "source": [
    "def a():\n",
    "    return atan2(-G*m*m_T/R_T**2,G*m*m_B/d_B**2)*180/3.1415"
   ]
  },
  {
   "cell_type": "code",
   "execution_count": 7,
   "metadata": {
    "collapsed": false
   },
   "outputs": [],
   "source": [
    "m=80"
   ]
  },
  {
   "cell_type": "code",
   "execution_count": 8,
   "metadata": {
    "collapsed": false
   },
   "outputs": [
    {
     "data": {
      "text/latex": [
       "$$57.2974693617699 \\operatorname{atan_{2}}{\\left (- \\frac{80 G}{R_{T}^{2}} M_\\oplus,\\frac{80 G}{d_{B}^{2}} m_{B} \\right )}$$"
      ],
      "text/plain": [
       "                      ⎛-80⋅G⋅M_\\oplus   80⋅G⋅m_B⎞\n",
       "57.2974693617699⋅atan2⎜───────────────, ────────⎟\n",
       "                      ⎜         2            2  ⎟\n",
       "                      ⎝      R_T          d_B   ⎠"
      ]
     },
     "execution_count": 8,
     "metadata": {},
     "output_type": "execute_result"
    }
   ],
   "source": [
    "a()"
   ]
  },
  {
   "cell_type": "code",
   "execution_count": 9,
   "metadata": {
    "collapsed": true
   },
   "outputs": [],
   "source": [
    "G=6.67e-11"
   ]
  },
  {
   "cell_type": "code",
   "execution_count": 10,
   "metadata": {
    "collapsed": false
   },
   "outputs": [
    {
     "data": {
      "text/latex": [
       "$$57.2974693617699 \\operatorname{atan_{2}}{\\left (- \\frac{M_\\oplus}{R_{T}^{2}} 5.336 \\cdot 10^{-9},\\frac{m_{B}}{d_{B}^{2}} 5.336 \\cdot 10^{-9} \\right )}$$"
      ],
      "text/plain": [
       "                      ⎛-5.336e-9⋅M_\\oplus   5.336e-9⋅m_B⎞\n",
       "57.2974693617699⋅atan2⎜───────────────────, ────────────⎟\n",
       "                      ⎜           2                2    ⎟\n",
       "                      ⎝        R_T              d_B     ⎠"
      ]
     },
     "execution_count": 10,
     "metadata": {},
     "output_type": "execute_result"
    }
   ],
   "source": [
    "a()"
   ]
  },
  {
   "cell_type": "code",
   "execution_count": 11,
   "metadata": {
    "collapsed": true
   },
   "outputs": [],
   "source": [
    "m_T=5.97e24"
   ]
  },
  {
   "cell_type": "code",
   "execution_count": 12,
   "metadata": {
    "collapsed": false
   },
   "outputs": [
    {
     "data": {
      "text/latex": [
       "$$57.2974693617699 \\operatorname{atan_{2}}{\\left (- \\frac{1}{R_{T}^{2}} 3.185592 \\cdot 10^{16},\\frac{m_{B}}{d_{B}^{2}} 5.336 \\cdot 10^{-9} \\right )}$$"
      ],
      "text/plain": [
       "                      ⎛-3.185592e+16   5.336e-9⋅m_B⎞\n",
       "57.2974693617699⋅atan2⎜──────────────, ────────────⎟\n",
       "                      ⎜        2              2    ⎟\n",
       "                      ⎝     R_T            d_B     ⎠"
      ]
     },
     "execution_count": 12,
     "metadata": {},
     "output_type": "execute_result"
    }
   ],
   "source": [
    "a()"
   ]
  },
  {
   "cell_type": "code",
   "execution_count": 13,
   "metadata": {
    "collapsed": true
   },
   "outputs": [],
   "source": [
    "R_T=6378.388e3"
   ]
  },
  {
   "cell_type": "code",
   "execution_count": 14,
   "metadata": {
    "collapsed": false
   },
   "outputs": [
    {
     "data": {
      "text/latex": [
       "$$57.2974693617699 \\operatorname{atan_{2}}{\\left (-783.011758633815,\\frac{m_{B}}{d_{B}^{2}} 5.336 \\cdot 10^{-9} \\right )}$$"
      ],
      "text/plain": [
       "                      ⎛                   5.336e-9⋅m_B⎞\n",
       "57.2974693617699⋅atan2⎜-783.011758633815, ────────────⎟\n",
       "                      ⎜                          2    ⎟\n",
       "                      ⎝                       d_B     ⎠"
      ]
     },
     "execution_count": 14,
     "metadata": {},
     "output_type": "execute_result"
    }
   ],
   "source": [
    "a()"
   ]
  },
  {
   "cell_type": "code",
   "execution_count": 15,
   "metadata": {
    "collapsed": true
   },
   "outputs": [],
   "source": [
    "rho=symbols('rho')"
   ]
  },
  {
   "cell_type": "code",
   "execution_count": 16,
   "metadata": {
    "collapsed": false
   },
   "outputs": [
    {
     "data": {
      "text/latex": [
       "$$\\rho$$"
      ],
      "text/plain": [
       "ρ"
      ]
     },
     "execution_count": 16,
     "metadata": {},
     "output_type": "execute_result"
    }
   ],
   "source": [
    "rho"
   ]
  },
  {
   "cell_type": "code",
   "execution_count": 17,
   "metadata": {
    "collapsed": true
   },
   "outputs": [],
   "source": [
    "rho=3e17"
   ]
  },
  {
   "cell_type": "code",
   "execution_count": 18,
   "metadata": {
    "collapsed": true
   },
   "outputs": [],
   "source": [
    "# http://www.cip-bobp.org/homologation/uploads/tdcc/tab-iv/tabivcal-en-page28.pdf\n",
    "V=(29.69e-3-19.15e-3)*(9.03e-3/2)**2*3.1415"
   ]
  },
  {
   "cell_type": "code",
   "execution_count": 19,
   "metadata": {
    "collapsed": false
   },
   "outputs": [
    {
     "data": {
      "text/latex": [
       "$$6.74983542917e-07$$"
      ],
      "text/plain": [
       "6.74983542917e-07"
      ]
     },
     "execution_count": 19,
     "metadata": {},
     "output_type": "execute_result"
    }
   ],
   "source": [
    "V"
   ]
  },
  {
   "cell_type": "code",
   "execution_count": 20,
   "metadata": {
    "collapsed": true
   },
   "outputs": [],
   "source": [
    "m_B=rho*V"
   ]
  },
  {
   "cell_type": "code",
   "execution_count": 21,
   "metadata": {
    "collapsed": false
   },
   "outputs": [
    {
     "data": {
      "text/latex": [
       "$$2.02495062875e+11$$"
      ],
      "text/plain": [
       "2.02495062875e+11"
      ]
     },
     "execution_count": 21,
     "metadata": {},
     "output_type": "execute_result"
    }
   ],
   "source": [
    "m_B"
   ]
  },
  {
   "cell_type": "code",
   "execution_count": 22,
   "metadata": {
    "collapsed": false
   },
   "outputs": [
    {
     "data": {
      "text/latex": [
       "$$57.2974693617699 \\operatorname{atan_{2}}{\\left (-783.011758633815,\\frac{1080.51365550193}{d_{B}^{2}} \\right )}$$"
      ],
      "text/plain": [
       "                      ⎛                   1080.51365550193⎞\n",
       "57.2974693617699⋅atan2⎜-783.011758633815, ────────────────⎟\n",
       "                      ⎜                            2      ⎟\n",
       "                      ⎝                         d_B       ⎠"
      ]
     },
     "execution_count": 22,
     "metadata": {},
     "output_type": "execute_result"
    }
   ],
   "source": [
    "a()"
   ]
  },
  {
   "cell_type": "code",
   "execution_count": 23,
   "metadata": {
    "collapsed": false
   },
   "outputs": [
    {
     "data": {
      "image/png": "[encoded data removed]",
      "text/plain": [
       "<matplotlib.figure.Figure at 0x7f122b4000d0>"
      ]
     },
     "metadata": {},
     "output_type": "display_data"
    },
    {
     "data": {
      "text/plain": [
       "<sympy.plotting.plot.Plot at 0x7f123cdb8d90>"
      ]
     },
     "execution_count": 23,
     "metadata": {},
     "output_type": "execute_result"
    }
   ],
   "source": [
    "plot(a())"
   ]
  }
 ],
 "metadata": {
  "kernelspec": {
   "display_name": "Python 2",
   "language": "python",
   "name": "python2"
  },
  "language_info": {
   "codemirror_mode": {
    "name": "ipython",
    "version": 2
   },
   "file_extension": ".py",
   "mimetype": "text/x-python",
   "name": "python",
   "nbconvert_exporter": "python",
   "pygments_lexer": "ipython2",
   "version": "2.7.13"
  }
 },
 "nbformat": 4,
 "nbformat_minor": 2
}
